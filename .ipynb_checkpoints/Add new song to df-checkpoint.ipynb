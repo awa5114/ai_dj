{
 "cells": [
  {
   "cell_type": "markdown",
   "id": "f8e21fba-05f5-4043-9150-9edf513ead9b",
   "metadata": {},
   "source": [
    "# Download song from Youtube and get audio features"
   ]
  },
  {
   "cell_type": "code",
   "execution_count": 23,
   "id": "4e24d63f-aea7-40cb-aadb-d87c68b21da9",
   "metadata": {},
   "outputs": [],
   "source": [
    "# Imports\n",
    "from __future__ import unicode_literals\n",
    "import youtube_dl\n",
    "import librosa\n",
    "import librosa.display\n",
    "import audioread\n",
    "import matplotlib.pyplot as plt\n",
    "from os import path\n",
    "from pydub import AudioSegment\n",
    "import numpy as np\n",
    "import pandas as pd\n",
    "from scipy.signal import spectrogram\n",
    "from pyACA.ToolComputeHann import ToolComputeHann\n",
    "from pyACA.FeatureSpectralPitchChroma import FeatureSpectralPitchChroma\n",
    "from pyACA.ToolPreprocAudio import ToolPreprocAudio\n",
    "from pyACA.ToolReadAudio import ToolReadAudio\n",
    "from spleeter.separator import Separator"
   ]
  },
  {
   "cell_type": "markdown",
   "id": "f3bbd252-9146-4b29-bb81-f03b3d3c0f47",
   "metadata": {},
   "source": [
    "## Download song from Youtube"
   ]
  },
  {
   "cell_type": "code",
   "execution_count": 2,
   "id": "b7591755-0ead-4d36-825d-04ec3a34f8f3",
   "metadata": {},
   "outputs": [],
   "source": [
    "yt_link = 'https://www.youtube.com/watch?v=ogv284C4W30'"
   ]
  },
  {
   "cell_type": "code",
   "execution_count": 3,
   "id": "4aec8da2-f955-4388-9575-77ed5372cb7d",
   "metadata": {},
   "outputs": [],
   "source": [
    "def download_song(yt_link):\n",
    "    ydl_opts = {\n",
    "        'format': 'bestaudio/best',\n",
    "        'postprocessors': [{\n",
    "            'key': 'FFmpegExtractAudio',\n",
    "            'preferredcodec': 'wav',\n",
    "            'preferredquality': '192'\n",
    "        }],\n",
    "    }\n",
    "    with youtube_dl.YoutubeDL(ydl_opts) as ydl:\n",
    "        ydl.download([yt_link])\n",
    "        meta = ydl.extract_info(yt_link, download=False)\n",
    "        title = meta[\"title\"]\n",
    "        song_id = meta[\"id\"]\n",
    "        output_filename = f'{title}-{song_id}.wav'\n",
    "    \n",
    "    return title, song_id, output_filename"
   ]
  },
  {
   "cell_type": "code",
   "execution_count": 12,
   "id": "955041c7-fb52-4382-aaa2-a888b0b27721",
   "metadata": {},
   "outputs": [
    {
     "name": "stdout",
     "output_type": "stream",
     "text": [
      "[youtube] ogv284C4W30: Downloading webpage\n",
      "[download] Destination: Kygo, Sasha Sloan - I'll Wait (Lyric Video)-ogv284C4W30.webm\n",
      "[download] 100% of 3.54MiB in 00:0008MiB/s ETA 00:003\n",
      "[ffmpeg] Destination: Kygo, Sasha Sloan - I'll Wait (Lyric Video)-ogv284C4W30.wav\n",
      "Deleting original file Kygo, Sasha Sloan - I'll Wait (Lyric Video)-ogv284C4W30.webm (pass -k to keep)\n",
      "[youtube] ogv284C4W30: Downloading webpage\n"
     ]
    }
   ],
   "source": [
    "title, song_id, output_filename = download_song(yt_link)"
   ]
  },
  {
   "cell_type": "markdown",
   "id": "cd4ebc50-1b13-42d4-9de1-f4859e5cf649",
   "metadata": {},
   "source": [
    "# Get BPM"
   ]
  },
  {
   "cell_type": "code",
   "execution_count": 5,
   "id": "07fb4515-ffdd-4967-9272-2e8fc19cbded",
   "metadata": {},
   "outputs": [],
   "source": [
    "def get_BPM(output_filename):\n",
    "    y, sr = librosa.load(output_filename, sr=44100)\n",
    "\n",
    "    # Run the default beat tracker\n",
    "    tempo, beat_frames = librosa.beat.beat_track(y=y, sr=sr)\n",
    "    print('Estimated tempo: {:.2f} beats per minute'.format(tempo))\n",
    "\n",
    "    # Convert the frame indices of beat events into timestamps\n",
    "    beat_times = librosa.frames_to_time(beat_frames, sr=sr)\n",
    "    return tempo, beat_frames, beat_times"
   ]
  },
  {
   "cell_type": "code",
   "execution_count": 6,
   "id": "2b53d102-0951-460b-92a8-c70df017070d",
   "metadata": {},
   "outputs": [
    {
     "name": "stdout",
     "output_type": "stream",
     "text": [
      "Estimated tempo: 123.05 beats per minute\n"
     ]
    },
    {
     "data": {
      "text/plain": [
       "123.046875"
      ]
     },
     "execution_count": 6,
     "metadata": {},
     "output_type": "execute_result"
    }
   ],
   "source": [
    "tempo, beat_frames, beat_times = get_BPM(output_filename)\n",
    "tempo"
   ]
  },
  {
   "cell_type": "code",
   "execution_count": null,
   "id": "63507e6e-f095-4a8f-879e-1ca6df665c6d",
   "metadata": {},
   "outputs": [],
   "source": []
  },
  {
   "cell_type": "markdown",
   "id": "0f576cb2-a6b9-4daa-a33a-5b531cfa4b89",
   "metadata": {},
   "source": [
    "# Get Key"
   ]
  },
  {
   "cell_type": "code",
   "execution_count": 7,
   "id": "d91a3e3a-8fa6-4ce5-b977-e5e267276f7c",
   "metadata": {},
   "outputs": [],
   "source": [
    "def computeKey(afAudioData, f_s, afWindow=None, iBlockLength=4096, iHopLength=2048):\n",
    "\n",
    "    # compute window function for FFT\n",
    "    if afWindow is None:\n",
    "        afWindow = ToolComputeHann(iBlockLength)\n",
    "\n",
    "    assert(afWindow.shape[0] == iBlockLength), \"parameter error: invalid window dimension\"\n",
    "\n",
    "    # key names\n",
    "    cKeyNames = np.array(['C Maj', 'C# Maj', 'D Maj', 'D# Maj', 'E Maj', 'F Maj', 'F# Maj', 'G Maj', 'G# Maj', 'A Maj', 'A# Maj', 'B Maj',\n",
    "                         'c min', 'c# min', 'd min', 'd# min', 'e min', 'f min', 'f# min', 'g min', 'g# min', 'a min', 'a# min', 'b min'])\n",
    "\n",
    "    # template pitch chroma (Krumhansl major/minor), normalized to a sum of 1\n",
    "    t_pc = np.array([[6.35, 2.23, 3.48, 2.33, 4.38, 4.09, 2.52, 5.19, 2.39, 3.66, 2.29, 2.88],\n",
    "                    [6.33, 2.68, 3.52, 5.38, 2.60, 3.53, 2.54, 4.75, 3.98, 2.69, 3.34, 3.17]])\n",
    "    t_pc = t_pc / t_pc.sum(axis=1, keepdims=True)\n",
    "\n",
    "    # pre-processing\n",
    "    afAudioData = ToolPreprocAudio(afAudioData, iBlockLength)\n",
    "\n",
    "    # in the real world, we would do this block by block...\n",
    "    [f, t, X] = spectrogram(afAudioData,\n",
    "                            f_s,\n",
    "                            afWindow,\n",
    "                            iBlockLength,\n",
    "                            iBlockLength - iHopLength,\n",
    "                            iBlockLength,\n",
    "                            False,\n",
    "                            True,\n",
    "                            'spectrum')\n",
    "\n",
    "    #  scale the same as for matlab\n",
    "    X = np.sqrt(X / 2)\n",
    "\n",
    "    # compute instantaneous pitch chroma\n",
    "    v_pc = FeatureSpectralPitchChroma(X, f_s)\n",
    "\n",
    "    # average pitch chroma\n",
    "    v_pc = v_pc.mean(axis=1)\n",
    "    # compute manhattan distances for modes (major and minor)\n",
    "    d = np.zeros(t_pc.shape)\n",
    "    v_pc = np.concatenate((v_pc, v_pc), axis=0).reshape(2, 12)\n",
    "    for i in range(0, 12):\n",
    "        d[:, i] = np.sum(np.abs(v_pc - np.roll(t_pc, i, axis=1)), axis=1)\n",
    "\n",
    "    # get unwrapped key index\n",
    "    iKeyIdx = d.argmin()\n",
    "\n",
    "    cKey = cKeyNames[iKeyIdx]\n",
    "\n",
    "    return (cKey)"
   ]
  },
  {
   "cell_type": "code",
   "execution_count": 8,
   "id": "a95eac94-a5c0-4bca-83a9-546d1194d3ea",
   "metadata": {},
   "outputs": [],
   "source": [
    "def computeKeyCl(cPath):\n",
    "    \n",
    "    [f_s, afAudioData] = ToolReadAudio(cPath)\n",
    "    # afAudioData = np.sin(2*np.pi * np.arange(f_s*1)*440./f_s)\n",
    "\n",
    "    cKey = computeKey(afAudioData, f_s)\n",
    "    print(\"detected key: \", cKey)\n",
    "    \n",
    "    return cKey"
   ]
  },
  {
   "cell_type": "code",
   "execution_count": 9,
   "id": "b15240d8-8d15-4a41-b619-50159f654aa9",
   "metadata": {},
   "outputs": [
    {
     "name": "stdout",
     "output_type": "stream",
     "text": [
      "detected key:  C# Maj\n"
     ]
    },
    {
     "data": {
      "text/plain": [
       "'C# Maj'"
      ]
     },
     "execution_count": 9,
     "metadata": {},
     "output_type": "execute_result"
    }
   ],
   "source": [
    "cPath = output_filename\n",
    "key = computeKeyCl(cPath)\n",
    "key"
   ]
  },
  {
   "cell_type": "markdown",
   "id": "c03292a5-d646-46cd-bbcf-dddb940d13b0",
   "metadata": {},
   "source": [
    "# Display waveplots"
   ]
  },
  {
   "cell_type": "code",
   "execution_count": 10,
   "id": "3f675e44-68de-48e7-975b-00e22bcb12e6",
   "metadata": {},
   "outputs": [
    {
     "data": {
      "text/plain": [
       "[Text(0.5, 1.0, 'Harmonic + Percussive')]"
      ]
     },
     "execution_count": 10,
     "metadata": {},
     "output_type": "execute_result"
    },
    {
     "data": {
      "image/png": "[encoded data removed]",
      "text/plain": [
       "<Figure size 432x288 with 3 Axes>"
      ]
     },
     "metadata": {
      "needs_background": "light"
     },
     "output_type": "display_data"
    }
   ],
   "source": [
    "y, sr = librosa.load(output_filename, duration=60)\n",
    "fig, ax = plt.subplots(nrows=3, sharex=True, sharey=True)\n",
    "librosa.display.waveplot(y, sr=sr, ax=ax[0])\n",
    "ax[0].set(title='Monophonic')\n",
    "ax[0].label_outer()\n",
    "\n",
    "y, sr = librosa.load(output_filename, mono=False, duration=60)\n",
    "librosa.display.waveplot(y, sr=sr, ax=ax[1])\n",
    "ax[1].set(title='Stereo')\n",
    "ax[1].label_outer()\n",
    "\n",
    "y, sr = librosa.load(output_filename, duration=60)\n",
    "y_harm, y_perc = librosa.effects.hpss(y)\n",
    "librosa.display.waveplot(y_harm, sr=sr, alpha=0.25, ax=ax[2])\n",
    "librosa.display.waveplot(y_perc, sr=sr, color='r', alpha=0.5, ax=ax[2])\n",
    "ax[2].set(title='Harmonic + Percussive')"
   ]
  },
  {
   "cell_type": "markdown",
   "id": "9832cd51-aec9-48f5-ac2e-b8a843cc3bb2",
   "metadata": {},
   "source": [
    "# Add to audio features dataframe"
   ]
  },
  {
   "cell_type": "code",
   "execution_count": 13,
   "id": "8a1a65b1-ea39-452b-a833-070e9f9cddf7",
   "metadata": {},
   "outputs": [],
   "source": [
    "audio_features_dict = {\"song_id\":song_id,\n",
    "                       \"youtube_link\":yt_link,\n",
    "                       \"output_file\": output_filename,\n",
    "                       \"title\": title, \n",
    "                       \"BPM\": tempo, \n",
    "                       \"key\": key}"
   ]
  },
  {
   "cell_type": "code",
   "execution_count": 14,
   "id": "ff5ab748-7905-46e9-8adb-03c3c5952c0f",
   "metadata": {},
   "outputs": [],
   "source": [
    "audio_features = pd.DataFrame(columns=audio_features_dict.keys())"
   ]
  },
  {
   "cell_type": "code",
   "execution_count": 15,
   "id": "d7b8c9d5-f88c-40fe-b1d6-6c5d7e7d90b0",
   "metadata": {},
   "outputs": [
    {
     "data": {
      "text/html": [
       "<div>\n",
       "<style scoped>\n",
       "    .dataframe tbody tr th:only-of-type {\n",
       "        vertical-align: middle;\n",
       "    }\n",
       "\n",
       "    .dataframe tbody tr th {\n",
       "        vertical-align: top;\n",
       "    }\n",
       "\n",
       "    .dataframe thead th {\n",
       "        text-align: right;\n",
       "    }\n",
       "</style>\n",
       "<table border=\"1\" class=\"dataframe\">\n",
       "  <thead>\n",
       "    <tr style=\"text-align: right;\">\n",
       "      <th></th>\n",
       "      <th>song_id</th>\n",
       "      <th>youtube_link</th>\n",
       "      <th>output_file</th>\n",
       "      <th>title</th>\n",
       "      <th>BPM</th>\n",
       "      <th>key</th>\n",
       "    </tr>\n",
       "  </thead>\n",
       "  <tbody>\n",
       "    <tr>\n",
       "      <th>0</th>\n",
       "      <td>ogv284C4W30</td>\n",
       "      <td>https://www.youtube.com/watch?v=ogv284C4W30</td>\n",
       "      <td>Kygo, Sasha Sloan - I'll Wait (Lyric Video)-og...</td>\n",
       "      <td>Kygo, Sasha Sloan - I'll Wait (Lyric Video)</td>\n",
       "      <td>123.046875</td>\n",
       "      <td>C# Maj</td>\n",
       "    </tr>\n",
       "  </tbody>\n",
       "</table>\n",
       "</div>"
      ],
      "text/plain": [
       "       song_id                                 youtube_link  \\\n",
       "0  ogv284C4W30  https://www.youtube.com/watch?v=ogv284C4W30   \n",
       "\n",
       "                                         output_file  \\\n",
       "0  Kygo, Sasha Sloan - I'll Wait (Lyric Video)-og...   \n",
       "\n",
       "                                         title         BPM     key  \n",
       "0  Kygo, Sasha Sloan - I'll Wait (Lyric Video)  123.046875  C# Maj  "
      ]
     },
     "execution_count": 15,
     "metadata": {},
     "output_type": "execute_result"
    }
   ],
   "source": [
    "audio_features = audio_features.append(audio_features_dict, ignore_index=True)\n",
    "audio_features"
   ]
  },
  {
   "cell_type": "markdown",
   "id": "b76dd11b-5863-418c-b17d-47018680b771",
   "metadata": {},
   "source": [
    "## Add new song to dateframe"
   ]
  },
  {
   "cell_type": "code",
   "execution_count": 19,
   "id": "b8833a62-efed-49a9-ae2b-129b00334419",
   "metadata": {},
   "outputs": [],
   "source": [
    "def analyze_song(link, df):\n",
    "    title, song_id, output_filename = download_song(link)\n",
    "    tempo, beat_frames, beat_times = get_BPM(output_filename)\n",
    "    key = computeKeyCl(output_filename)\n",
    "    new_song_dict = {\"song_id\":song_id,\n",
    "                       \"youtube_link\":link,\n",
    "                       \"output_file\": output_filename,\n",
    "                       \"title\": title, \n",
    "                       \"BPM\": tempo, \n",
    "                       \"key\": key}\n",
    "    df = df.append(new_song_dict, ignore_index=True)\n",
    "    df = df.drop_duplicates()\n",
    "    return df"
   ]
  },
  {
   "cell_type": "code",
   "execution_count": 17,
   "id": "8e918737-5e23-4437-bc27-c25a9a04f2b3",
   "metadata": {},
   "outputs": [
    {
     "name": "stdout",
     "output_type": "stream",
     "text": [
      "[youtube] xarC5jAiO7w: Downloading webpage\n"
     ]
    },
    {
     "name": "stderr",
     "output_type": "stream",
     "text": [
      "ERROR: unable to download video data: HTTP Error 403: Forbidden\n"
     ]
    },
    {
     "ename": "DownloadError",
     "evalue": "ERROR: unable to download video data: HTTP Error 403: Forbidden",
     "output_type": "error",
     "traceback": [
      "\u001b[0;31m---------------------------------------------------------------------------\u001b[0m",
      "\u001b[0;31mHTTPError\u001b[0m                                 Traceback (most recent call last)",
      "\u001b[0;32m~/.pyenv/versions/3.8.6/envs/lewagon/lib/python3.8/site-packages/youtube_dl/YoutubeDL.py\u001b[0m in \u001b[0;36mprocess_info\u001b[0;34m(self, info_dict)\u001b[0m\n\u001b[1;32m   1975\u001b[0m                     \u001b[0;31m# Just a single file\u001b[0m\u001b[0;34m\u001b[0m\u001b[0;34m\u001b[0m\u001b[0;34m\u001b[0m\u001b[0m\n\u001b[0;32m-> 1976\u001b[0;31m                     \u001b[0msuccess\u001b[0m \u001b[0;34m=\u001b[0m \u001b[0mdl\u001b[0m\u001b[0;34m(\u001b[0m\u001b[0mfilename\u001b[0m\u001b[0;34m,\u001b[0m \u001b[0minfo_dict\u001b[0m\u001b[0;34m)\u001b[0m\u001b[0;34m\u001b[0m\u001b[0;34m\u001b[0m\u001b[0m\n\u001b[0m\u001b[1;32m   1977\u001b[0m             \u001b[0;32mexcept\u001b[0m \u001b[0;34m(\u001b[0m\u001b[0mcompat_urllib_error\u001b[0m\u001b[0;34m.\u001b[0m\u001b[0mURLError\u001b[0m\u001b[0;34m,\u001b[0m \u001b[0mcompat_http_client\u001b[0m\u001b[0;34m.\u001b[0m\u001b[0mHTTPException\u001b[0m\u001b[0;34m,\u001b[0m \u001b[0msocket\u001b[0m\u001b[0;34m.\u001b[0m\u001b[0merror\u001b[0m\u001b[0;34m)\u001b[0m \u001b[0;32mas\u001b[0m \u001b[0merr\u001b[0m\u001b[0;34m:\u001b[0m\u001b[0;34m\u001b[0m\u001b[0;34m\u001b[0m\u001b[0m\n",
      "\u001b[0;32m~/.pyenv/versions/3.8.6/envs/lewagon/lib/python3.8/site-packages/youtube_dl/YoutubeDL.py\u001b[0m in \u001b[0;36mdl\u001b[0;34m(name, info)\u001b[0m\n\u001b[1;32m   1914\u001b[0m                         \u001b[0mself\u001b[0m\u001b[0;34m.\u001b[0m\u001b[0mto_screen\u001b[0m\u001b[0;34m(\u001b[0m\u001b[0;34m'[debug] Invoking downloader on %r'\u001b[0m \u001b[0;34m%\u001b[0m \u001b[0minfo\u001b[0m\u001b[0;34m.\u001b[0m\u001b[0mget\u001b[0m\u001b[0;34m(\u001b[0m\u001b[0;34m'url'\u001b[0m\u001b[0;34m)\u001b[0m\u001b[0;34m)\u001b[0m\u001b[0;34m\u001b[0m\u001b[0;34m\u001b[0m\u001b[0m\n\u001b[0;32m-> 1915\u001b[0;31m                     \u001b[0;32mreturn\u001b[0m \u001b[0mfd\u001b[0m\u001b[0;34m.\u001b[0m\u001b[0mdownload\u001b[0m\u001b[0;34m(\u001b[0m\u001b[0mname\u001b[0m\u001b[0;34m,\u001b[0m \u001b[0minfo\u001b[0m\u001b[0;34m)\u001b[0m\u001b[0;34m\u001b[0m\u001b[0;34m\u001b[0m\u001b[0m\n\u001b[0m\u001b[1;32m   1916\u001b[0m \u001b[0;34m\u001b[0m\u001b[0m\n",
      "\u001b[0;32m~/.pyenv/versions/3.8.6/envs/lewagon/lib/python3.8/site-packages/youtube_dl/downloader/common.py\u001b[0m in \u001b[0;36mdownload\u001b[0;34m(self, filename, info_dict)\u001b[0m\n\u001b[1;32m    365\u001b[0m \u001b[0;34m\u001b[0m\u001b[0m\n\u001b[0;32m--> 366\u001b[0;31m         \u001b[0;32mreturn\u001b[0m \u001b[0mself\u001b[0m\u001b[0;34m.\u001b[0m\u001b[0mreal_download\u001b[0m\u001b[0;34m(\u001b[0m\u001b[0mfilename\u001b[0m\u001b[0;34m,\u001b[0m \u001b[0minfo_dict\u001b[0m\u001b[0;34m)\u001b[0m\u001b[0;34m\u001b[0m\u001b[0;34m\u001b[0m\u001b[0m\n\u001b[0m\u001b[1;32m    367\u001b[0m \u001b[0;34m\u001b[0m\u001b[0m\n",
      "\u001b[0;32m~/.pyenv/versions/3.8.6/envs/lewagon/lib/python3.8/site-packages/youtube_dl/downloader/http.py\u001b[0m in \u001b[0;36mreal_download\u001b[0;34m(self, filename, info_dict)\u001b[0m\n\u001b[1;32m    350\u001b[0m             \u001b[0;32mtry\u001b[0m\u001b[0;34m:\u001b[0m\u001b[0;34m\u001b[0m\u001b[0;34m\u001b[0m\u001b[0m\n\u001b[0;32m--> 351\u001b[0;31m                 \u001b[0mestablish_connection\u001b[0m\u001b[0;34m(\u001b[0m\u001b[0;34m)\u001b[0m\u001b[0;34m\u001b[0m\u001b[0;34m\u001b[0m\u001b[0m\n\u001b[0m\u001b[1;32m    352\u001b[0m                 \u001b[0;32mreturn\u001b[0m \u001b[0mdownload\u001b[0m\u001b[0;34m(\u001b[0m\u001b[0;34m)\u001b[0m\u001b[0;34m\u001b[0m\u001b[0;34m\u001b[0m\u001b[0m\n",
      "\u001b[0;32m~/.pyenv/versions/3.8.6/envs/lewagon/lib/python3.8/site-packages/youtube_dl/downloader/http.py\u001b[0m in \u001b[0;36mestablish_connection\u001b[0;34m()\u001b[0m\n\u001b[1;32m    115\u001b[0m                         \u001b[0;32mraise\u001b[0m \u001b[0mRetryDownload\u001b[0m\u001b[0;34m(\u001b[0m\u001b[0merr\u001b[0m\u001b[0;34m)\u001b[0m\u001b[0;34m\u001b[0m\u001b[0;34m\u001b[0m\u001b[0m\n\u001b[0;32m--> 116\u001b[0;31m                     \u001b[0;32mraise\u001b[0m \u001b[0merr\u001b[0m\u001b[0;34m\u001b[0m\u001b[0;34m\u001b[0m\u001b[0m\n\u001b[0m\u001b[1;32m    117\u001b[0m                 \u001b[0;31m# When trying to resume, Content-Range HTTP header of response has to be checked\u001b[0m\u001b[0;34m\u001b[0m\u001b[0;34m\u001b[0m\u001b[0;34m\u001b[0m\u001b[0m\n",
      "\u001b[0;32m~/.pyenv/versions/3.8.6/envs/lewagon/lib/python3.8/site-packages/youtube_dl/downloader/http.py\u001b[0m in \u001b[0;36mestablish_connection\u001b[0;34m()\u001b[0m\n\u001b[1;32m    109\u001b[0m                 \u001b[0;32mtry\u001b[0m\u001b[0;34m:\u001b[0m\u001b[0;34m\u001b[0m\u001b[0;34m\u001b[0m\u001b[0m\n\u001b[0;32m--> 110\u001b[0;31m                     \u001b[0mctx\u001b[0m\u001b[0;34m.\u001b[0m\u001b[0mdata\u001b[0m \u001b[0;34m=\u001b[0m \u001b[0mself\u001b[0m\u001b[0;34m.\u001b[0m\u001b[0mydl\u001b[0m\u001b[0;34m.\u001b[0m\u001b[0murlopen\u001b[0m\u001b[0;34m(\u001b[0m\u001b[0mrequest\u001b[0m\u001b[0;34m)\u001b[0m\u001b[0;34m\u001b[0m\u001b[0;34m\u001b[0m\u001b[0m\n\u001b[0m\u001b[1;32m    111\u001b[0m                 \u001b[0;32mexcept\u001b[0m \u001b[0;34m(\u001b[0m\u001b[0mcompat_urllib_error\u001b[0m\u001b[0;34m.\u001b[0m\u001b[0mURLError\u001b[0m\u001b[0;34m,\u001b[0m \u001b[0;34m)\u001b[0m \u001b[0;32mas\u001b[0m \u001b[0merr\u001b[0m\u001b[0;34m:\u001b[0m\u001b[0;34m\u001b[0m\u001b[0;34m\u001b[0m\u001b[0m\n",
      "\u001b[0;32m~/.pyenv/versions/3.8.6/envs/lewagon/lib/python3.8/site-packages/youtube_dl/YoutubeDL.py\u001b[0m in \u001b[0;36murlopen\u001b[0;34m(self, req)\u001b[0m\n\u001b[1;32m   2287\u001b[0m             \u001b[0mreq\u001b[0m \u001b[0;34m=\u001b[0m \u001b[0msanitized_Request\u001b[0m\u001b[0;34m(\u001b[0m\u001b[0mreq\u001b[0m\u001b[0;34m)\u001b[0m\u001b[0;34m\u001b[0m\u001b[0;34m\u001b[0m\u001b[0m\n\u001b[0;32m-> 2288\u001b[0;31m         \u001b[0;32mreturn\u001b[0m \u001b[0mself\u001b[0m\u001b[0;34m.\u001b[0m\u001b[0m_opener\u001b[0m\u001b[0;34m.\u001b[0m\u001b[0mopen\u001b[0m\u001b[0;34m(\u001b[0m\u001b[0mreq\u001b[0m\u001b[0;34m,\u001b[0m \u001b[0mtimeout\u001b[0m\u001b[0;34m=\u001b[0m\u001b[0mself\u001b[0m\u001b[0;34m.\u001b[0m\u001b[0m_socket_timeout\u001b[0m\u001b[0;34m)\u001b[0m\u001b[0;34m\u001b[0m\u001b[0;34m\u001b[0m\u001b[0m\n\u001b[0m\u001b[1;32m   2289\u001b[0m \u001b[0;34m\u001b[0m\u001b[0m\n",
      "\u001b[0;32m~/.pyenv/versions/3.8.6/lib/python3.8/urllib/request.py\u001b[0m in \u001b[0;36mopen\u001b[0;34m(self, fullurl, data, timeout)\u001b[0m\n\u001b[1;32m    530\u001b[0m             \u001b[0mmeth\u001b[0m \u001b[0;34m=\u001b[0m \u001b[0mgetattr\u001b[0m\u001b[0;34m(\u001b[0m\u001b[0mprocessor\u001b[0m\u001b[0;34m,\u001b[0m \u001b[0mmeth_name\u001b[0m\u001b[0;34m)\u001b[0m\u001b[0;34m\u001b[0m\u001b[0;34m\u001b[0m\u001b[0m\n\u001b[0;32m--> 531\u001b[0;31m             \u001b[0mresponse\u001b[0m \u001b[0;34m=\u001b[0m \u001b[0mmeth\u001b[0m\u001b[0;34m(\u001b[0m\u001b[0mreq\u001b[0m\u001b[0;34m,\u001b[0m \u001b[0mresponse\u001b[0m\u001b[0;34m)\u001b[0m\u001b[0;34m\u001b[0m\u001b[0;34m\u001b[0m\u001b[0m\n\u001b[0m\u001b[1;32m    532\u001b[0m \u001b[0;34m\u001b[0m\u001b[0m\n",
      "\u001b[0;32m~/.pyenv/versions/3.8.6/lib/python3.8/urllib/request.py\u001b[0m in \u001b[0;36mhttp_response\u001b[0;34m(self, request, response)\u001b[0m\n\u001b[1;32m    639\u001b[0m         \u001b[0;32mif\u001b[0m \u001b[0;32mnot\u001b[0m \u001b[0;34m(\u001b[0m\u001b[0;36m200\u001b[0m \u001b[0;34m<=\u001b[0m \u001b[0mcode\u001b[0m \u001b[0;34m<\u001b[0m \u001b[0;36m300\u001b[0m\u001b[0;34m)\u001b[0m\u001b[0;34m:\u001b[0m\u001b[0;34m\u001b[0m\u001b[0;34m\u001b[0m\u001b[0m\n\u001b[0;32m--> 640\u001b[0;31m             response = self.parent.error(\n\u001b[0m\u001b[1;32m    641\u001b[0m                 'http', request, response, code, msg, hdrs)\n",
      "\u001b[0;32m~/.pyenv/versions/3.8.6/lib/python3.8/urllib/request.py\u001b[0m in \u001b[0;36merror\u001b[0;34m(self, proto, *args)\u001b[0m\n\u001b[1;32m    568\u001b[0m             \u001b[0margs\u001b[0m \u001b[0;34m=\u001b[0m \u001b[0;34m(\u001b[0m\u001b[0mdict\u001b[0m\u001b[0;34m,\u001b[0m \u001b[0;34m'default'\u001b[0m\u001b[0;34m,\u001b[0m \u001b[0;34m'http_error_default'\u001b[0m\u001b[0;34m)\u001b[0m \u001b[0;34m+\u001b[0m \u001b[0morig_args\u001b[0m\u001b[0;34m\u001b[0m\u001b[0;34m\u001b[0m\u001b[0m\n\u001b[0;32m--> 569\u001b[0;31m             \u001b[0;32mreturn\u001b[0m \u001b[0mself\u001b[0m\u001b[0;34m.\u001b[0m\u001b[0m_call_chain\u001b[0m\u001b[0;34m(\u001b[0m\u001b[0;34m*\u001b[0m\u001b[0margs\u001b[0m\u001b[0;34m)\u001b[0m\u001b[0;34m\u001b[0m\u001b[0;34m\u001b[0m\u001b[0m\n\u001b[0m\u001b[1;32m    570\u001b[0m \u001b[0;34m\u001b[0m\u001b[0m\n",
      "\u001b[0;32m~/.pyenv/versions/3.8.6/lib/python3.8/urllib/request.py\u001b[0m in \u001b[0;36m_call_chain\u001b[0;34m(self, chain, kind, meth_name, *args)\u001b[0m\n\u001b[1;32m    501\u001b[0m             \u001b[0mfunc\u001b[0m \u001b[0;34m=\u001b[0m \u001b[0mgetattr\u001b[0m\u001b[0;34m(\u001b[0m\u001b[0mhandler\u001b[0m\u001b[0;34m,\u001b[0m \u001b[0mmeth_name\u001b[0m\u001b[0;34m)\u001b[0m\u001b[0;34m\u001b[0m\u001b[0;34m\u001b[0m\u001b[0m\n\u001b[0;32m--> 502\u001b[0;31m             \u001b[0mresult\u001b[0m \u001b[0;34m=\u001b[0m \u001b[0mfunc\u001b[0m\u001b[0;34m(\u001b[0m\u001b[0;34m*\u001b[0m\u001b[0margs\u001b[0m\u001b[0;34m)\u001b[0m\u001b[0;34m\u001b[0m\u001b[0;34m\u001b[0m\u001b[0m\n\u001b[0m\u001b[1;32m    503\u001b[0m             \u001b[0;32mif\u001b[0m \u001b[0mresult\u001b[0m \u001b[0;32mis\u001b[0m \u001b[0;32mnot\u001b[0m \u001b[0;32mNone\u001b[0m\u001b[0;34m:\u001b[0m\u001b[0;34m\u001b[0m\u001b[0;34m\u001b[0m\u001b[0m\n",
      "\u001b[0;32m~/.pyenv/versions/3.8.6/lib/python3.8/urllib/request.py\u001b[0m in \u001b[0;36mhttp_error_default\u001b[0;34m(self, req, fp, code, msg, hdrs)\u001b[0m\n\u001b[1;32m    648\u001b[0m     \u001b[0;32mdef\u001b[0m \u001b[0mhttp_error_default\u001b[0m\u001b[0;34m(\u001b[0m\u001b[0mself\u001b[0m\u001b[0;34m,\u001b[0m \u001b[0mreq\u001b[0m\u001b[0;34m,\u001b[0m \u001b[0mfp\u001b[0m\u001b[0;34m,\u001b[0m \u001b[0mcode\u001b[0m\u001b[0;34m,\u001b[0m \u001b[0mmsg\u001b[0m\u001b[0;34m,\u001b[0m \u001b[0mhdrs\u001b[0m\u001b[0;34m)\u001b[0m\u001b[0;34m:\u001b[0m\u001b[0;34m\u001b[0m\u001b[0;34m\u001b[0m\u001b[0m\n\u001b[0;32m--> 649\u001b[0;31m         \u001b[0;32mraise\u001b[0m \u001b[0mHTTPError\u001b[0m\u001b[0;34m(\u001b[0m\u001b[0mreq\u001b[0m\u001b[0;34m.\u001b[0m\u001b[0mfull_url\u001b[0m\u001b[0;34m,\u001b[0m \u001b[0mcode\u001b[0m\u001b[0;34m,\u001b[0m \u001b[0mmsg\u001b[0m\u001b[0;34m,\u001b[0m \u001b[0mhdrs\u001b[0m\u001b[0;34m,\u001b[0m \u001b[0mfp\u001b[0m\u001b[0;34m)\u001b[0m\u001b[0;34m\u001b[0m\u001b[0;34m\u001b[0m\u001b[0m\n\u001b[0m\u001b[1;32m    650\u001b[0m \u001b[0;34m\u001b[0m\u001b[0m\n",
      "\u001b[0;31mHTTPError\u001b[0m: HTTP Error 403: Forbidden",
      "\nDuring handling of the above exception, another exception occurred:\n",
      "\u001b[0;31mDownloadError\u001b[0m                             Traceback (most recent call last)",
      "\u001b[0;32m<ipython-input-17-fbada1bf4c1b>\u001b[0m in \u001b[0;36m<module>\u001b[0;34m\u001b[0m\n\u001b[1;32m      1\u001b[0m \u001b[0mnew_song_link\u001b[0m \u001b[0;34m=\u001b[0m \u001b[0;34m\"https://www.youtube.com/watch?v=xarC5jAiO7w\"\u001b[0m\u001b[0;34m\u001b[0m\u001b[0;34m\u001b[0m\u001b[0m\n\u001b[0;32m----> 2\u001b[0;31m \u001b[0maudio_features\u001b[0m \u001b[0;34m=\u001b[0m \u001b[0manalyze_song\u001b[0m\u001b[0;34m(\u001b[0m\u001b[0mnew_song_link\u001b[0m\u001b[0;34m,\u001b[0m \u001b[0maudio_features\u001b[0m\u001b[0;34m)\u001b[0m\u001b[0;34m\u001b[0m\u001b[0;34m\u001b[0m\u001b[0m\n\u001b[0m",
      "\u001b[0;32m<ipython-input-16-cf218e817f51>\u001b[0m in \u001b[0;36manalyze_song\u001b[0;34m(link, df)\u001b[0m\n\u001b[1;32m      1\u001b[0m \u001b[0;32mdef\u001b[0m \u001b[0manalyze_song\u001b[0m\u001b[0;34m(\u001b[0m\u001b[0mlink\u001b[0m\u001b[0;34m,\u001b[0m \u001b[0mdf\u001b[0m\u001b[0;34m)\u001b[0m\u001b[0;34m:\u001b[0m\u001b[0;34m\u001b[0m\u001b[0;34m\u001b[0m\u001b[0m\n\u001b[0;32m----> 2\u001b[0;31m     \u001b[0mtitle\u001b[0m\u001b[0;34m,\u001b[0m \u001b[0msong_id\u001b[0m\u001b[0;34m,\u001b[0m \u001b[0moutput_filename\u001b[0m \u001b[0;34m=\u001b[0m \u001b[0mdownload_song\u001b[0m\u001b[0;34m(\u001b[0m\u001b[0mlink\u001b[0m\u001b[0;34m)\u001b[0m\u001b[0;34m\u001b[0m\u001b[0;34m\u001b[0m\u001b[0m\n\u001b[0m\u001b[1;32m      3\u001b[0m     \u001b[0mtempo\u001b[0m\u001b[0;34m,\u001b[0m \u001b[0mbeat_frames\u001b[0m\u001b[0;34m,\u001b[0m \u001b[0mbeat_times\u001b[0m \u001b[0;34m=\u001b[0m \u001b[0mget_BPM\u001b[0m\u001b[0;34m(\u001b[0m\u001b[0moutput_filename\u001b[0m\u001b[0;34m)\u001b[0m\u001b[0;34m\u001b[0m\u001b[0;34m\u001b[0m\u001b[0m\n\u001b[1;32m      4\u001b[0m     \u001b[0mkey\u001b[0m \u001b[0;34m=\u001b[0m \u001b[0mcomputeKeyCl\u001b[0m\u001b[0;34m(\u001b[0m\u001b[0moutput_filename\u001b[0m\u001b[0;34m)\u001b[0m\u001b[0;34m\u001b[0m\u001b[0;34m\u001b[0m\u001b[0m\n\u001b[1;32m      5\u001b[0m     new_song_dict = {\"song_id\":song_id,\n",
      "\u001b[0;32m<ipython-input-3-9bc93a961d36>\u001b[0m in \u001b[0;36mdownload_song\u001b[0;34m(yt_link)\u001b[0m\n\u001b[1;32m      9\u001b[0m     }\n\u001b[1;32m     10\u001b[0m     \u001b[0;32mwith\u001b[0m \u001b[0myoutube_dl\u001b[0m\u001b[0;34m.\u001b[0m\u001b[0mYoutubeDL\u001b[0m\u001b[0;34m(\u001b[0m\u001b[0mydl_opts\u001b[0m\u001b[0;34m)\u001b[0m \u001b[0;32mas\u001b[0m \u001b[0mydl\u001b[0m\u001b[0;34m:\u001b[0m\u001b[0;34m\u001b[0m\u001b[0;34m\u001b[0m\u001b[0m\n\u001b[0;32m---> 11\u001b[0;31m         \u001b[0mydl\u001b[0m\u001b[0;34m.\u001b[0m\u001b[0mdownload\u001b[0m\u001b[0;34m(\u001b[0m\u001b[0;34m[\u001b[0m\u001b[0myt_link\u001b[0m\u001b[0;34m]\u001b[0m\u001b[0;34m)\u001b[0m\u001b[0;34m\u001b[0m\u001b[0;34m\u001b[0m\u001b[0m\n\u001b[0m\u001b[1;32m     12\u001b[0m         \u001b[0mmeta\u001b[0m \u001b[0;34m=\u001b[0m \u001b[0mydl\u001b[0m\u001b[0;34m.\u001b[0m\u001b[0mextract_info\u001b[0m\u001b[0;34m(\u001b[0m\u001b[0myt_link\u001b[0m\u001b[0;34m,\u001b[0m \u001b[0mdownload\u001b[0m\u001b[0;34m=\u001b[0m\u001b[0;32mFalse\u001b[0m\u001b[0;34m)\u001b[0m\u001b[0;34m\u001b[0m\u001b[0;34m\u001b[0m\u001b[0m\n\u001b[1;32m     13\u001b[0m         \u001b[0mtitle\u001b[0m \u001b[0;34m=\u001b[0m \u001b[0mmeta\u001b[0m\u001b[0;34m[\u001b[0m\u001b[0;34m\"title\"\u001b[0m\u001b[0;34m]\u001b[0m\u001b[0;34m\u001b[0m\u001b[0;34m\u001b[0m\u001b[0m\n",
      "\u001b[0;32m~/.pyenv/versions/3.8.6/envs/lewagon/lib/python3.8/site-packages/youtube_dl/YoutubeDL.py\u001b[0m in \u001b[0;36mdownload\u001b[0;34m(self, url_list)\u001b[0m\n\u001b[1;32m   2066\u001b[0m             \u001b[0;32mtry\u001b[0m\u001b[0;34m:\u001b[0m\u001b[0;34m\u001b[0m\u001b[0;34m\u001b[0m\u001b[0m\n\u001b[1;32m   2067\u001b[0m                 \u001b[0;31m# It also downloads the videos\u001b[0m\u001b[0;34m\u001b[0m\u001b[0;34m\u001b[0m\u001b[0;34m\u001b[0m\u001b[0m\n\u001b[0;32m-> 2068\u001b[0;31m                 res = self.extract_info(\n\u001b[0m\u001b[1;32m   2069\u001b[0m                     url, force_generic_extractor=self.params.get('force_generic_extractor', False))\n\u001b[1;32m   2070\u001b[0m             \u001b[0;32mexcept\u001b[0m \u001b[0mUnavailableVideoError\u001b[0m\u001b[0;34m:\u001b[0m\u001b[0;34m\u001b[0m\u001b[0;34m\u001b[0m\u001b[0m\n",
      "\u001b[0;32m~/.pyenv/versions/3.8.6/envs/lewagon/lib/python3.8/site-packages/youtube_dl/YoutubeDL.py\u001b[0m in \u001b[0;36mextract_info\u001b[0;34m(self, url, download, ie_key, extra_info, process, force_generic_extractor)\u001b[0m\n\u001b[1;32m    806\u001b[0m                                     'and will probably not work.')\n\u001b[1;32m    807\u001b[0m \u001b[0;34m\u001b[0m\u001b[0m\n\u001b[0;32m--> 808\u001b[0;31m             \u001b[0;32mreturn\u001b[0m \u001b[0mself\u001b[0m\u001b[0;34m.\u001b[0m\u001b[0m__extract_info\u001b[0m\u001b[0;34m(\u001b[0m\u001b[0murl\u001b[0m\u001b[0;34m,\u001b[0m \u001b[0mie\u001b[0m\u001b[0;34m,\u001b[0m \u001b[0mdownload\u001b[0m\u001b[0;34m,\u001b[0m \u001b[0mextra_info\u001b[0m\u001b[0;34m,\u001b[0m \u001b[0mprocess\u001b[0m\u001b[0;34m)\u001b[0m\u001b[0;34m\u001b[0m\u001b[0;34m\u001b[0m\u001b[0m\n\u001b[0m\u001b[1;32m    809\u001b[0m         \u001b[0;32melse\u001b[0m\u001b[0;34m:\u001b[0m\u001b[0;34m\u001b[0m\u001b[0;34m\u001b[0m\u001b[0m\n\u001b[1;32m    810\u001b[0m             \u001b[0mself\u001b[0m\u001b[0;34m.\u001b[0m\u001b[0mreport_error\u001b[0m\u001b[0;34m(\u001b[0m\u001b[0;34m'no suitable InfoExtractor for URL %s'\u001b[0m \u001b[0;34m%\u001b[0m \u001b[0murl\u001b[0m\u001b[0;34m)\u001b[0m\u001b[0;34m\u001b[0m\u001b[0;34m\u001b[0m\u001b[0m\n",
      "\u001b[0;32m~/.pyenv/versions/3.8.6/envs/lewagon/lib/python3.8/site-packages/youtube_dl/YoutubeDL.py\u001b[0m in \u001b[0;36mwrapper\u001b[0;34m(self, *args, **kwargs)\u001b[0m\n\u001b[1;32m    813\u001b[0m         \u001b[0;32mdef\u001b[0m \u001b[0mwrapper\u001b[0m\u001b[0;34m(\u001b[0m\u001b[0mself\u001b[0m\u001b[0;34m,\u001b[0m \u001b[0;34m*\u001b[0m\u001b[0margs\u001b[0m\u001b[0;34m,\u001b[0m \u001b[0;34m**\u001b[0m\u001b[0mkwargs\u001b[0m\u001b[0;34m)\u001b[0m\u001b[0;34m:\u001b[0m\u001b[0;34m\u001b[0m\u001b[0;34m\u001b[0m\u001b[0m\n\u001b[1;32m    814\u001b[0m             \u001b[0;32mtry\u001b[0m\u001b[0;34m:\u001b[0m\u001b[0;34m\u001b[0m\u001b[0;34m\u001b[0m\u001b[0m\n\u001b[0;32m--> 815\u001b[0;31m                 \u001b[0;32mreturn\u001b[0m \u001b[0mfunc\u001b[0m\u001b[0;34m(\u001b[0m\u001b[0mself\u001b[0m\u001b[0;34m,\u001b[0m \u001b[0;34m*\u001b[0m\u001b[0margs\u001b[0m\u001b[0;34m,\u001b[0m \u001b[0;34m**\u001b[0m\u001b[0mkwargs\u001b[0m\u001b[0;34m)\u001b[0m\u001b[0;34m\u001b[0m\u001b[0;34m\u001b[0m\u001b[0m\n\u001b[0m\u001b[1;32m    816\u001b[0m             \u001b[0;32mexcept\u001b[0m \u001b[0mGeoRestrictedError\u001b[0m \u001b[0;32mas\u001b[0m \u001b[0me\u001b[0m\u001b[0;34m:\u001b[0m\u001b[0;34m\u001b[0m\u001b[0;34m\u001b[0m\u001b[0m\n\u001b[1;32m    817\u001b[0m                 \u001b[0mmsg\u001b[0m \u001b[0;34m=\u001b[0m \u001b[0me\u001b[0m\u001b[0;34m.\u001b[0m\u001b[0mmsg\u001b[0m\u001b[0;34m\u001b[0m\u001b[0;34m\u001b[0m\u001b[0m\n",
      "\u001b[0;32m~/.pyenv/versions/3.8.6/envs/lewagon/lib/python3.8/site-packages/youtube_dl/YoutubeDL.py\u001b[0m in \u001b[0;36m__extract_info\u001b[0;34m(self, url, ie, download, extra_info, process)\u001b[0m\n\u001b[1;32m    845\u001b[0m         \u001b[0mself\u001b[0m\u001b[0;34m.\u001b[0m\u001b[0madd_default_extra_info\u001b[0m\u001b[0;34m(\u001b[0m\u001b[0mie_result\u001b[0m\u001b[0;34m,\u001b[0m \u001b[0mie\u001b[0m\u001b[0;34m,\u001b[0m \u001b[0murl\u001b[0m\u001b[0;34m)\u001b[0m\u001b[0;34m\u001b[0m\u001b[0;34m\u001b[0m\u001b[0m\n\u001b[1;32m    846\u001b[0m         \u001b[0;32mif\u001b[0m \u001b[0mprocess\u001b[0m\u001b[0;34m:\u001b[0m\u001b[0;34m\u001b[0m\u001b[0;34m\u001b[0m\u001b[0m\n\u001b[0;32m--> 847\u001b[0;31m             \u001b[0;32mreturn\u001b[0m \u001b[0mself\u001b[0m\u001b[0;34m.\u001b[0m\u001b[0mprocess_ie_result\u001b[0m\u001b[0;34m(\u001b[0m\u001b[0mie_result\u001b[0m\u001b[0;34m,\u001b[0m \u001b[0mdownload\u001b[0m\u001b[0;34m,\u001b[0m \u001b[0mextra_info\u001b[0m\u001b[0;34m)\u001b[0m\u001b[0;34m\u001b[0m\u001b[0;34m\u001b[0m\u001b[0m\n\u001b[0m\u001b[1;32m    848\u001b[0m         \u001b[0;32melse\u001b[0m\u001b[0;34m:\u001b[0m\u001b[0;34m\u001b[0m\u001b[0;34m\u001b[0m\u001b[0m\n\u001b[1;32m    849\u001b[0m             \u001b[0;32mreturn\u001b[0m \u001b[0mie_result\u001b[0m\u001b[0;34m\u001b[0m\u001b[0;34m\u001b[0m\u001b[0m\n",
      "\u001b[0;32m~/.pyenv/versions/3.8.6/envs/lewagon/lib/python3.8/site-packages/youtube_dl/YoutubeDL.py\u001b[0m in \u001b[0;36mprocess_ie_result\u001b[0;34m(self, ie_result, download, extra_info)\u001b[0m\n\u001b[1;32m    879\u001b[0m         \u001b[0;32mif\u001b[0m \u001b[0mresult_type\u001b[0m \u001b[0;34m==\u001b[0m \u001b[0;34m'video'\u001b[0m\u001b[0;34m:\u001b[0m\u001b[0;34m\u001b[0m\u001b[0;34m\u001b[0m\u001b[0m\n\u001b[1;32m    880\u001b[0m             \u001b[0mself\u001b[0m\u001b[0;34m.\u001b[0m\u001b[0madd_extra_info\u001b[0m\u001b[0;34m(\u001b[0m\u001b[0mie_result\u001b[0m\u001b[0;34m,\u001b[0m \u001b[0mextra_info\u001b[0m\u001b[0;34m)\u001b[0m\u001b[0;34m\u001b[0m\u001b[0;34m\u001b[0m\u001b[0m\n\u001b[0;32m--> 881\u001b[0;31m             \u001b[0;32mreturn\u001b[0m \u001b[0mself\u001b[0m\u001b[0;34m.\u001b[0m\u001b[0mprocess_video_result\u001b[0m\u001b[0;34m(\u001b[0m\u001b[0mie_result\u001b[0m\u001b[0;34m,\u001b[0m \u001b[0mdownload\u001b[0m\u001b[0;34m=\u001b[0m\u001b[0mdownload\u001b[0m\u001b[0;34m)\u001b[0m\u001b[0;34m\u001b[0m\u001b[0;34m\u001b[0m\u001b[0m\n\u001b[0m\u001b[1;32m    882\u001b[0m         \u001b[0;32melif\u001b[0m \u001b[0mresult_type\u001b[0m \u001b[0;34m==\u001b[0m \u001b[0;34m'url'\u001b[0m\u001b[0;34m:\u001b[0m\u001b[0;34m\u001b[0m\u001b[0;34m\u001b[0m\u001b[0m\n\u001b[1;32m    883\u001b[0m             \u001b[0;31m# We have to add extra_info to the results because it may be\u001b[0m\u001b[0;34m\u001b[0m\u001b[0;34m\u001b[0m\u001b[0;34m\u001b[0m\u001b[0m\n",
      "\u001b[0;32m~/.pyenv/versions/3.8.6/envs/lewagon/lib/python3.8/site-packages/youtube_dl/YoutubeDL.py\u001b[0m in \u001b[0;36mprocess_video_result\u001b[0;34m(self, info_dict, download)\u001b[0m\n\u001b[1;32m   1690\u001b[0m                 \u001b[0mnew_info\u001b[0m \u001b[0;34m=\u001b[0m \u001b[0mdict\u001b[0m\u001b[0;34m(\u001b[0m\u001b[0minfo_dict\u001b[0m\u001b[0;34m)\u001b[0m\u001b[0;34m\u001b[0m\u001b[0;34m\u001b[0m\u001b[0m\n\u001b[1;32m   1691\u001b[0m                 \u001b[0mnew_info\u001b[0m\u001b[0;34m.\u001b[0m\u001b[0mupdate\u001b[0m\u001b[0;34m(\u001b[0m\u001b[0mformat\u001b[0m\u001b[0;34m)\u001b[0m\u001b[0;34m\u001b[0m\u001b[0;34m\u001b[0m\u001b[0m\n\u001b[0;32m-> 1692\u001b[0;31m                 \u001b[0mself\u001b[0m\u001b[0;34m.\u001b[0m\u001b[0mprocess_info\u001b[0m\u001b[0;34m(\u001b[0m\u001b[0mnew_info\u001b[0m\u001b[0;34m)\u001b[0m\u001b[0;34m\u001b[0m\u001b[0;34m\u001b[0m\u001b[0m\n\u001b[0m\u001b[1;32m   1693\u001b[0m         \u001b[0;31m# We update the info dict with the best quality format (backwards compatibility)\u001b[0m\u001b[0;34m\u001b[0m\u001b[0;34m\u001b[0m\u001b[0;34m\u001b[0m\u001b[0m\n\u001b[1;32m   1694\u001b[0m         \u001b[0minfo_dict\u001b[0m\u001b[0;34m.\u001b[0m\u001b[0mupdate\u001b[0m\u001b[0;34m(\u001b[0m\u001b[0mformats_to_download\u001b[0m\u001b[0;34m[\u001b[0m\u001b[0;34m-\u001b[0m\u001b[0;36m1\u001b[0m\u001b[0;34m]\u001b[0m\u001b[0;34m)\u001b[0m\u001b[0;34m\u001b[0m\u001b[0;34m\u001b[0m\u001b[0m\n",
      "\u001b[0;32m~/.pyenv/versions/3.8.6/envs/lewagon/lib/python3.8/site-packages/youtube_dl/YoutubeDL.py\u001b[0m in \u001b[0;36mprocess_info\u001b[0;34m(self, info_dict)\u001b[0m\n\u001b[1;32m   1976\u001b[0m                     \u001b[0msuccess\u001b[0m \u001b[0;34m=\u001b[0m \u001b[0mdl\u001b[0m\u001b[0;34m(\u001b[0m\u001b[0mfilename\u001b[0m\u001b[0;34m,\u001b[0m \u001b[0minfo_dict\u001b[0m\u001b[0;34m)\u001b[0m\u001b[0;34m\u001b[0m\u001b[0;34m\u001b[0m\u001b[0m\n\u001b[1;32m   1977\u001b[0m             \u001b[0;32mexcept\u001b[0m \u001b[0;34m(\u001b[0m\u001b[0mcompat_urllib_error\u001b[0m\u001b[0;34m.\u001b[0m\u001b[0mURLError\u001b[0m\u001b[0;34m,\u001b[0m \u001b[0mcompat_http_client\u001b[0m\u001b[0;34m.\u001b[0m\u001b[0mHTTPException\u001b[0m\u001b[0;34m,\u001b[0m \u001b[0msocket\u001b[0m\u001b[0;34m.\u001b[0m\u001b[0merror\u001b[0m\u001b[0;34m)\u001b[0m \u001b[0;32mas\u001b[0m \u001b[0merr\u001b[0m\u001b[0;34m:\u001b[0m\u001b[0;34m\u001b[0m\u001b[0;34m\u001b[0m\u001b[0m\n\u001b[0;32m-> 1978\u001b[0;31m                 \u001b[0mself\u001b[0m\u001b[0;34m.\u001b[0m\u001b[0mreport_error\u001b[0m\u001b[0;34m(\u001b[0m\u001b[0;34m'unable to download video data: %s'\u001b[0m \u001b[0;34m%\u001b[0m \u001b[0merror_to_compat_str\u001b[0m\u001b[0;34m(\u001b[0m\u001b[0merr\u001b[0m\u001b[0;34m)\u001b[0m\u001b[0;34m)\u001b[0m\u001b[0;34m\u001b[0m\u001b[0;34m\u001b[0m\u001b[0m\n\u001b[0m\u001b[1;32m   1979\u001b[0m                 \u001b[0;32mreturn\u001b[0m\u001b[0;34m\u001b[0m\u001b[0;34m\u001b[0m\u001b[0m\n\u001b[1;32m   1980\u001b[0m             \u001b[0;32mexcept\u001b[0m \u001b[0;34m(\u001b[0m\u001b[0mOSError\u001b[0m\u001b[0;34m,\u001b[0m \u001b[0mIOError\u001b[0m\u001b[0;34m)\u001b[0m \u001b[0;32mas\u001b[0m \u001b[0merr\u001b[0m\u001b[0;34m:\u001b[0m\u001b[0;34m\u001b[0m\u001b[0;34m\u001b[0m\u001b[0m\n",
      "\u001b[0;32m~/.pyenv/versions/3.8.6/envs/lewagon/lib/python3.8/site-packages/youtube_dl/YoutubeDL.py\u001b[0m in \u001b[0;36mreport_error\u001b[0;34m(self, message, tb)\u001b[0m\n\u001b[1;32m    626\u001b[0m             \u001b[0m_msg_header\u001b[0m \u001b[0;34m=\u001b[0m \u001b[0;34m'ERROR:'\u001b[0m\u001b[0;34m\u001b[0m\u001b[0;34m\u001b[0m\u001b[0m\n\u001b[1;32m    627\u001b[0m         \u001b[0merror_message\u001b[0m \u001b[0;34m=\u001b[0m \u001b[0;34m'%s %s'\u001b[0m \u001b[0;34m%\u001b[0m \u001b[0;34m(\u001b[0m\u001b[0m_msg_header\u001b[0m\u001b[0;34m,\u001b[0m \u001b[0mmessage\u001b[0m\u001b[0;34m)\u001b[0m\u001b[0;34m\u001b[0m\u001b[0;34m\u001b[0m\u001b[0m\n\u001b[0;32m--> 628\u001b[0;31m         \u001b[0mself\u001b[0m\u001b[0;34m.\u001b[0m\u001b[0mtrouble\u001b[0m\u001b[0;34m(\u001b[0m\u001b[0merror_message\u001b[0m\u001b[0;34m,\u001b[0m \u001b[0mtb\u001b[0m\u001b[0;34m)\u001b[0m\u001b[0;34m\u001b[0m\u001b[0;34m\u001b[0m\u001b[0m\n\u001b[0m\u001b[1;32m    629\u001b[0m \u001b[0;34m\u001b[0m\u001b[0m\n\u001b[1;32m    630\u001b[0m     \u001b[0;32mdef\u001b[0m \u001b[0mreport_file_already_downloaded\u001b[0m\u001b[0;34m(\u001b[0m\u001b[0mself\u001b[0m\u001b[0;34m,\u001b[0m \u001b[0mfile_name\u001b[0m\u001b[0;34m)\u001b[0m\u001b[0;34m:\u001b[0m\u001b[0;34m\u001b[0m\u001b[0;34m\u001b[0m\u001b[0m\n",
      "\u001b[0;32m~/.pyenv/versions/3.8.6/envs/lewagon/lib/python3.8/site-packages/youtube_dl/YoutubeDL.py\u001b[0m in \u001b[0;36mtrouble\u001b[0;34m(self, message, tb)\u001b[0m\n\u001b[1;32m    596\u001b[0m             \u001b[0;32melse\u001b[0m\u001b[0;34m:\u001b[0m\u001b[0;34m\u001b[0m\u001b[0;34m\u001b[0m\u001b[0m\n\u001b[1;32m    597\u001b[0m                 \u001b[0mexc_info\u001b[0m \u001b[0;34m=\u001b[0m \u001b[0msys\u001b[0m\u001b[0;34m.\u001b[0m\u001b[0mexc_info\u001b[0m\u001b[0;34m(\u001b[0m\u001b[0;34m)\u001b[0m\u001b[0;34m\u001b[0m\u001b[0;34m\u001b[0m\u001b[0m\n\u001b[0;32m--> 598\u001b[0;31m             \u001b[0;32mraise\u001b[0m \u001b[0mDownloadError\u001b[0m\u001b[0;34m(\u001b[0m\u001b[0mmessage\u001b[0m\u001b[0;34m,\u001b[0m \u001b[0mexc_info\u001b[0m\u001b[0;34m)\u001b[0m\u001b[0;34m\u001b[0m\u001b[0;34m\u001b[0m\u001b[0m\n\u001b[0m\u001b[1;32m    599\u001b[0m         \u001b[0mself\u001b[0m\u001b[0;34m.\u001b[0m\u001b[0m_download_retcode\u001b[0m \u001b[0;34m=\u001b[0m \u001b[0;36m1\u001b[0m\u001b[0;34m\u001b[0m\u001b[0;34m\u001b[0m\u001b[0m\n\u001b[1;32m    600\u001b[0m \u001b[0;34m\u001b[0m\u001b[0m\n",
      "\u001b[0;31mDownloadError\u001b[0m: ERROR: unable to download video data: HTTP Error 403: Forbidden"
     ]
    }
   ],
   "source": [
    "new_song_link = \"https://www.youtube.com/watch?v=xarC5jAiO7w\"\n",
    "audio_features = analyze_song(new_song_link, audio_features)"
   ]
  },
  {
   "cell_type": "code",
   "execution_count": 20,
   "id": "513181fd-c581-43af-bd0b-481d59fdd0b4",
   "metadata": {},
   "outputs": [
    {
     "data": {
      "text/html": [
       "<div>\n",
       "<style scoped>\n",
       "    .dataframe tbody tr th:only-of-type {\n",
       "        vertical-align: middle;\n",
       "    }\n",
       "\n",
       "    .dataframe tbody tr th {\n",
       "        vertical-align: top;\n",
       "    }\n",
       "\n",
       "    .dataframe thead th {\n",
       "        text-align: right;\n",
       "    }\n",
       "</style>\n",
       "<table border=\"1\" class=\"dataframe\">\n",
       "  <thead>\n",
       "    <tr style=\"text-align: right;\">\n",
       "      <th></th>\n",
       "      <th>song_id</th>\n",
       "      <th>youtube_link</th>\n",
       "      <th>output_file</th>\n",
       "      <th>title</th>\n",
       "      <th>BPM</th>\n",
       "      <th>key</th>\n",
       "    </tr>\n",
       "  </thead>\n",
       "  <tbody>\n",
       "    <tr>\n",
       "      <th>0</th>\n",
       "      <td>ogv284C4W30</td>\n",
       "      <td>https://www.youtube.com/watch?v=ogv284C4W30</td>\n",
       "      <td>Kygo, Sasha Sloan - I'll Wait (Lyric Video)-og...</td>\n",
       "      <td>Kygo, Sasha Sloan - I'll Wait (Lyric Video)</td>\n",
       "      <td>123.046875</td>\n",
       "      <td>C# Maj</td>\n",
       "    </tr>\n",
       "  </tbody>\n",
       "</table>\n",
       "</div>"
      ],
      "text/plain": [
       "       song_id                                 youtube_link  \\\n",
       "0  ogv284C4W30  https://www.youtube.com/watch?v=ogv284C4W30   \n",
       "\n",
       "                                         output_file  \\\n",
       "0  Kygo, Sasha Sloan - I'll Wait (Lyric Video)-og...   \n",
       "\n",
       "                                         title         BPM     key  \n",
       "0  Kygo, Sasha Sloan - I'll Wait (Lyric Video)  123.046875  C# Maj  "
      ]
     },
     "execution_count": 20,
     "metadata": {},
     "output_type": "execute_result"
    }
   ],
   "source": [
    "audio_features.head()"
   ]
  },
  {
   "cell_type": "code",
   "execution_count": 21,
   "id": "93139b5a-d132-4058-9a32-900520ebf190",
   "metadata": {},
   "outputs": [],
   "source": [
    "song_list = [\"https://www.youtube.com/watch?v=SF8DGbfOFig\", \n",
    "             \"https://www.youtube.com/watch?v=Q77vdqA0hnM\", \n",
    "             \"https://www.youtube.com/watch?v=j2A1_OOTTss\", \n",
    "             \"https://www.youtube.com/watch?v=VIeY1J1M9Ts\", \n",
    "             \"https://www.youtube.com/watch?v=L-2CyO8pc0E\", \n",
    "             \"https://www.youtube.com/watch?v=q5rliCxX8xc\", \n",
    "             \"https://www.youtube.com/watch?v=A1eiTbiSrRc\", \n",
    "             \"https://www.youtube.com/watch?v=SKUk9RUacDQ\", \n",
    "             \"https://www.youtube.com/watch?v=nXOSgekiAJc\"]"
   ]
  },
  {
   "cell_type": "code",
   "execution_count": 22,
   "id": "c31c6055-72e6-4d24-a2bd-d265e3e5e3f5",
   "metadata": {},
   "outputs": [
    {
     "name": "stdout",
     "output_type": "stream",
     "text": [
      "[youtube] SF8DGbfOFig: Downloading webpage\n",
      "[download] Destination: Total Science & S.P.Y - Piano Funk (Ft. Riya & DāM FunK) [320k]-SF8DGbfOFig.webm\n",
      "[download] 100% of 5.57MiB in 00:0042MiB/s ETA 00:007\n",
      "[ffmpeg] Destination: Total Science & S.P.Y - Piano Funk (Ft. Riya & DāM FunK) [320k]-SF8DGbfOFig.wav\n",
      "Deleting original file Total Science & S.P.Y - Piano Funk (Ft. Riya & DāM FunK) [320k]-SF8DGbfOFig.webm (pass -k to keep)\n",
      "[youtube] SF8DGbfOFig: Downloading webpage\n",
      "Estimated tempo: 87.59 beats per minute\n",
      "detected key:  G# Maj\n",
      "[youtube] Q77vdqA0hnM: Downloading webpage\n",
      "[download] Destination: Two Scoops-Q77vdqA0hnM.webm\n",
      "[download] 100% of 1.96MiB in 00:0090MiB/s ETA 00:002\n",
      "[ffmpeg] Destination: Two Scoops-Q77vdqA0hnM.wav\n",
      "Deleting original file Two Scoops-Q77vdqA0hnM.webm (pass -k to keep)\n",
      "[youtube] Q77vdqA0hnM: Downloading webpage\n",
      "Estimated tempo: 172.27 beats per minute\n",
      "detected key:  c min\n",
      "[youtube] j2A1_OOTTss: Downloading webpage\n",
      "[download] Destination: Oliver - Go With It (feat. Chromeo)-j2A1_OOTTss.webm\n",
      "[download] 100% of 3.68MiB in 00:0008MiB/s ETA 00:0003\n",
      "[ffmpeg] Destination: Oliver - Go With It (feat. Chromeo)-j2A1_OOTTss.wav\n",
      "Deleting original file Oliver - Go With It (feat. Chromeo)-j2A1_OOTTss.webm (pass -k to keep)\n",
      "[youtube] j2A1_OOTTss: Downloading webpage\n",
      "Estimated tempo: 101.33 beats per minute\n",
      "detected key:  C# Maj\n",
      "[youtube] VIeY1J1M9Ts: Downloading webpage\n",
      "[download] Destination: Vanilla - Go-VIeY1J1M9Ts.webm\n",
      "[download] 100% of 4.21MiB in 00:0117MiB/s ETA 00:0004\n",
      "[ffmpeg] Destination: Vanilla - Go-VIeY1J1M9Ts.wav\n",
      "Deleting original file Vanilla - Go-VIeY1J1M9Ts.webm (pass -k to keep)\n",
      "[youtube] VIeY1J1M9Ts: Downloading webpage\n",
      "Estimated tempo: 90.67 beats per minute\n",
      "detected key:  d min\n",
      "[youtube] L-2CyO8pc0E: Downloading webpage\n",
      "[download] Destination: Steve Monite - Only You-L-2CyO8pc0E.m4a\n",
      "[download] 100% of 6.02MiB in 00:2249MiB/s ETA 00:007\n",
      "[ffmpeg] Correcting container in \"Steve Monite - Only You-L-2CyO8pc0E.m4a\"\n",
      "[ffmpeg] Destination: Steve Monite - Only You-L-2CyO8pc0E.wav\n",
      "Deleting original file Steve Monite - Only You-L-2CyO8pc0E.m4a (pass -k to keep)\n",
      "[youtube] L-2CyO8pc0E: Downloading webpage\n",
      "Estimated tempo: 117.45 beats per minute\n",
      "detected key:  e min\n",
      "[youtube] q5rliCxX8xc: Downloading webpage\n",
      "[download] Destination: Bicep - Glue (Original Mix)-q5rliCxX8xc.webm\n",
      "[download] 100% of 4.39MiB in 00:0036MiB/s ETA 00:005\n",
      "[ffmpeg] Destination: Bicep - Glue (Original Mix)-q5rliCxX8xc.wav\n",
      "Deleting original file Bicep - Glue (Original Mix)-q5rliCxX8xc.webm (pass -k to keep)\n",
      "[youtube] q5rliCxX8xc: Downloading webpage\n",
      "Estimated tempo: 129.20 beats per minute\n",
      "detected key:  e min\n",
      "[youtube] A1eiTbiSrRc: Downloading webpage\n",
      "[download] Destination: OK - Cool - Aight feat. Conquer Jones-A1eiTbiSrRc.webm\n",
      "[download] 100% of 7.01MiB in 00:0176MiB/s ETA 00:001\n",
      "[ffmpeg] Destination: OK - Cool - Aight feat. Conquer Jones-A1eiTbiSrRc.wav\n",
      "Deleting original file OK - Cool - Aight feat. Conquer Jones-A1eiTbiSrRc.webm (pass -k to keep)\n",
      "[youtube] A1eiTbiSrRc: Downloading webpage\n",
      "Estimated tempo: 126.05 beats per minute\n",
      "detected key:  e min\n",
      "[youtube] SKUk9RUacDQ: Downloading webpage\n",
      "[download] Destination: 64 Ways (Dam Swindle's 65th Way Dub) feat. Mayer Hawthorne-SKUk9RUacDQ.webm\n",
      "[download] 100% of 7.35MiB in 00:0219MiB/s ETA 00:003\n",
      "[ffmpeg] Destination: 64 Ways (Dam Swindle's 65th Way Dub) feat. Mayer Hawthorne-SKUk9RUacDQ.wav\n",
      "Deleting original file 64 Ways (Dam Swindle's 65th Way Dub) feat. Mayer Hawthorne-SKUk9RUacDQ.webm (pass -k to keep)\n",
      "[youtube] SKUk9RUacDQ: Downloading webpage\n",
      "Estimated tempo: 123.05 beats per minute\n",
      "detected key:  G# Maj\n",
      "[youtube] nXOSgekiAJc: Downloading webpage\n",
      "[download] Destination: Disclosure - Expressing What Matters (Visualiser)-nXOSgekiAJc.webm\n",
      "[download] 100% of 4.41MiB in 00:0128MiB/s ETA 00:004\n",
      "[ffmpeg] Destination: Disclosure - Expressing What Matters (Visualiser)-nXOSgekiAJc.wav\n",
      "Deleting original file Disclosure - Expressing What Matters (Visualiser)-nXOSgekiAJc.webm (pass -k to keep)\n",
      "[youtube] nXOSgekiAJc: Downloading webpage\n",
      "Estimated tempo: 120.19 beats per minute\n",
      "detected key:  b min\n"
     ]
    },
    {
     "data": {
      "text/html": [
       "<div>\n",
       "<style scoped>\n",
       "    .dataframe tbody tr th:only-of-type {\n",
       "        vertical-align: middle;\n",
       "    }\n",
       "\n",
       "    .dataframe tbody tr th {\n",
       "        vertical-align: top;\n",
       "    }\n",
       "\n",
       "    .dataframe thead th {\n",
       "        text-align: right;\n",
       "    }\n",
       "</style>\n",
       "<table border=\"1\" class=\"dataframe\">\n",
       "  <thead>\n",
       "    <tr style=\"text-align: right;\">\n",
       "      <th></th>\n",
       "      <th>song_id</th>\n",
       "      <th>youtube_link</th>\n",
       "      <th>output_file</th>\n",
       "      <th>title</th>\n",
       "      <th>BPM</th>\n",
       "      <th>key</th>\n",
       "    </tr>\n",
       "  </thead>\n",
       "  <tbody>\n",
       "    <tr>\n",
       "      <th>0</th>\n",
       "      <td>ogv284C4W30</td>\n",
       "      <td>https://www.youtube.com/watch?v=ogv284C4W30</td>\n",
       "      <td>Kygo, Sasha Sloan - I'll Wait (Lyric Video)-og...</td>\n",
       "      <td>Kygo, Sasha Sloan - I'll Wait (Lyric Video)</td>\n",
       "      <td>123.046875</td>\n",
       "      <td>C# Maj</td>\n",
       "    </tr>\n",
       "    <tr>\n",
       "      <th>1</th>\n",
       "      <td>SF8DGbfOFig</td>\n",
       "      <td>https://www.youtube.com/watch?v=SF8DGbfOFig</td>\n",
       "      <td>Total Science &amp; S.P.Y - Piano Funk (Ft. Riya &amp;...</td>\n",
       "      <td>Total Science &amp; S.P.Y - Piano Funk (Ft. Riya &amp;...</td>\n",
       "      <td>87.592691</td>\n",
       "      <td>G# Maj</td>\n",
       "    </tr>\n",
       "    <tr>\n",
       "      <th>2</th>\n",
       "      <td>Q77vdqA0hnM</td>\n",
       "      <td>https://www.youtube.com/watch?v=Q77vdqA0hnM</td>\n",
       "      <td>Two Scoops-Q77vdqA0hnM.wav</td>\n",
       "      <td>Two Scoops</td>\n",
       "      <td>172.265625</td>\n",
       "      <td>c min</td>\n",
       "    </tr>\n",
       "    <tr>\n",
       "      <th>3</th>\n",
       "      <td>j2A1_OOTTss</td>\n",
       "      <td>https://www.youtube.com/watch?v=j2A1_OOTTss</td>\n",
       "      <td>Oliver - Go With It (feat. Chromeo)-j2A1_OOTTs...</td>\n",
       "      <td>Oliver - Go With It (feat. Chromeo)</td>\n",
       "      <td>101.332721</td>\n",
       "      <td>C# Maj</td>\n",
       "    </tr>\n",
       "    <tr>\n",
       "      <th>4</th>\n",
       "      <td>VIeY1J1M9Ts</td>\n",
       "      <td>https://www.youtube.com/watch?v=VIeY1J1M9Ts</td>\n",
       "      <td>Vanilla - Go-VIeY1J1M9Ts.wav</td>\n",
       "      <td>Vanilla - Go</td>\n",
       "      <td>90.666118</td>\n",
       "      <td>d min</td>\n",
       "    </tr>\n",
       "    <tr>\n",
       "      <th>5</th>\n",
       "      <td>L-2CyO8pc0E</td>\n",
       "      <td>https://www.youtube.com/watch?v=L-2CyO8pc0E</td>\n",
       "      <td>Steve Monite - Only You-L-2CyO8pc0E.wav</td>\n",
       "      <td>Steve Monite - Only You</td>\n",
       "      <td>117.453835</td>\n",
       "      <td>e min</td>\n",
       "    </tr>\n",
       "    <tr>\n",
       "      <th>6</th>\n",
       "      <td>q5rliCxX8xc</td>\n",
       "      <td>https://www.youtube.com/watch?v=q5rliCxX8xc</td>\n",
       "      <td>Bicep - Glue (Original Mix)-q5rliCxX8xc.wav</td>\n",
       "      <td>Bicep - Glue (Original Mix)</td>\n",
       "      <td>129.199219</td>\n",
       "      <td>e min</td>\n",
       "    </tr>\n",
       "    <tr>\n",
       "      <th>7</th>\n",
       "      <td>A1eiTbiSrRc</td>\n",
       "      <td>https://www.youtube.com/watch?v=A1eiTbiSrRc</td>\n",
       "      <td>OK - Cool - Aight feat. Conquer Jones-A1eiTbiS...</td>\n",
       "      <td>OK - Cool - Aight feat. Conquer Jones</td>\n",
       "      <td>126.048018</td>\n",
       "      <td>e min</td>\n",
       "    </tr>\n",
       "    <tr>\n",
       "      <th>8</th>\n",
       "      <td>SKUk9RUacDQ</td>\n",
       "      <td>https://www.youtube.com/watch?v=SKUk9RUacDQ</td>\n",
       "      <td>64 Ways (Dam Swindle's 65th Way Dub) feat. May...</td>\n",
       "      <td>64 Ways (Dam Swindle's 65th Way Dub) feat. May...</td>\n",
       "      <td>123.046875</td>\n",
       "      <td>G# Maj</td>\n",
       "    </tr>\n",
       "    <tr>\n",
       "      <th>9</th>\n",
       "      <td>nXOSgekiAJc</td>\n",
       "      <td>https://www.youtube.com/watch?v=nXOSgekiAJc</td>\n",
       "      <td>Disclosure - Expressing What Matters (Visualis...</td>\n",
       "      <td>Disclosure - Expressing What Matters (Visualiser)</td>\n",
       "      <td>120.185320</td>\n",
       "      <td>b min</td>\n",
       "    </tr>\n",
       "  </tbody>\n",
       "</table>\n",
       "</div>"
      ],
      "text/plain": [
       "       song_id                                 youtube_link  \\\n",
       "0  ogv284C4W30  https://www.youtube.com/watch?v=ogv284C4W30   \n",
       "1  SF8DGbfOFig  https://www.youtube.com/watch?v=SF8DGbfOFig   \n",
       "2  Q77vdqA0hnM  https://www.youtube.com/watch?v=Q77vdqA0hnM   \n",
       "3  j2A1_OOTTss  https://www.youtube.com/watch?v=j2A1_OOTTss   \n",
       "4  VIeY1J1M9Ts  https://www.youtube.com/watch?v=VIeY1J1M9Ts   \n",
       "5  L-2CyO8pc0E  https://www.youtube.com/watch?v=L-2CyO8pc0E   \n",
       "6  q5rliCxX8xc  https://www.youtube.com/watch?v=q5rliCxX8xc   \n",
       "7  A1eiTbiSrRc  https://www.youtube.com/watch?v=A1eiTbiSrRc   \n",
       "8  SKUk9RUacDQ  https://www.youtube.com/watch?v=SKUk9RUacDQ   \n",
       "9  nXOSgekiAJc  https://www.youtube.com/watch?v=nXOSgekiAJc   \n",
       "\n",
       "                                         output_file  \\\n",
       "0  Kygo, Sasha Sloan - I'll Wait (Lyric Video)-og...   \n",
       "1  Total Science & S.P.Y - Piano Funk (Ft. Riya &...   \n",
       "2                         Two Scoops-Q77vdqA0hnM.wav   \n",
       "3  Oliver - Go With It (feat. Chromeo)-j2A1_OOTTs...   \n",
       "4                       Vanilla - Go-VIeY1J1M9Ts.wav   \n",
       "5            Steve Monite - Only You-L-2CyO8pc0E.wav   \n",
       "6        Bicep - Glue (Original Mix)-q5rliCxX8xc.wav   \n",
       "7  OK - Cool - Aight feat. Conquer Jones-A1eiTbiS...   \n",
       "8  64 Ways (Dam Swindle's 65th Way Dub) feat. May...   \n",
       "9  Disclosure - Expressing What Matters (Visualis...   \n",
       "\n",
       "                                               title         BPM     key  \n",
       "0        Kygo, Sasha Sloan - I'll Wait (Lyric Video)  123.046875  C# Maj  \n",
       "1  Total Science & S.P.Y - Piano Funk (Ft. Riya &...   87.592691  G# Maj  \n",
       "2                                         Two Scoops  172.265625   c min  \n",
       "3                Oliver - Go With It (feat. Chromeo)  101.332721  C# Maj  \n",
       "4                                       Vanilla - Go   90.666118   d min  \n",
       "5                            Steve Monite - Only You  117.453835   e min  \n",
       "6                        Bicep - Glue (Original Mix)  129.199219   e min  \n",
       "7              OK - Cool - Aight feat. Conquer Jones  126.048018   e min  \n",
       "8  64 Ways (Dam Swindle's 65th Way Dub) feat. May...  123.046875  G# Maj  \n",
       "9  Disclosure - Expressing What Matters (Visualiser)  120.185320   b min  "
      ]
     },
     "execution_count": 22,
     "metadata": {},
     "output_type": "execute_result"
    }
   ],
   "source": [
    "for song in song_list:\n",
    "    audio_features = analyze_song(song, audio_features)\n",
    "    \n",
    "audio_features"
   ]
  },
  {
   "cell_type": "code",
   "execution_count": 24,
   "id": "641266dc-1b4a-4053-8622-8b16d3ca1f04",
   "metadata": {},
   "outputs": [
    {
     "data": {
      "text/html": [
       "<div>\n",
       "<style scoped>\n",
       "    .dataframe tbody tr th:only-of-type {\n",
       "        vertical-align: middle;\n",
       "    }\n",
       "\n",
       "    .dataframe tbody tr th {\n",
       "        vertical-align: top;\n",
       "    }\n",
       "\n",
       "    .dataframe thead th {\n",
       "        text-align: right;\n",
       "    }\n",
       "</style>\n",
       "<table border=\"1\" class=\"dataframe\">\n",
       "  <thead>\n",
       "    <tr style=\"text-align: right;\">\n",
       "      <th></th>\n",
       "      <th>song_id</th>\n",
       "      <th>youtube_link</th>\n",
       "      <th>output_file</th>\n",
       "      <th>title</th>\n",
       "      <th>BPM</th>\n",
       "      <th>key</th>\n",
       "    </tr>\n",
       "  </thead>\n",
       "  <tbody>\n",
       "    <tr>\n",
       "      <th>0</th>\n",
       "      <td>ogv284C4W30</td>\n",
       "      <td>https://www.youtube.com/watch?v=ogv284C4W30</td>\n",
       "      <td>Kygo, Sasha Sloan - I'll Wait (Lyric Video)-og...</td>\n",
       "      <td>Kygo, Sasha Sloan - I'll Wait (Lyric Video)</td>\n",
       "      <td>123.046875</td>\n",
       "      <td>C# Maj</td>\n",
       "    </tr>\n",
       "    <tr>\n",
       "      <th>1</th>\n",
       "      <td>SF8DGbfOFig</td>\n",
       "      <td>https://www.youtube.com/watch?v=SF8DGbfOFig</td>\n",
       "      <td>Total Science &amp; S.P.Y - Piano Funk (Ft. Riya &amp;...</td>\n",
       "      <td>Total Science &amp; S.P.Y - Piano Funk (Ft. Riya &amp;...</td>\n",
       "      <td>87.592691</td>\n",
       "      <td>G# Maj</td>\n",
       "    </tr>\n",
       "    <tr>\n",
       "      <th>2</th>\n",
       "      <td>Q77vdqA0hnM</td>\n",
       "      <td>https://www.youtube.com/watch?v=Q77vdqA0hnM</td>\n",
       "      <td>Two Scoops-Q77vdqA0hnM.wav</td>\n",
       "      <td>Two Scoops</td>\n",
       "      <td>172.265625</td>\n",
       "      <td>c min</td>\n",
       "    </tr>\n",
       "    <tr>\n",
       "      <th>3</th>\n",
       "      <td>j2A1_OOTTss</td>\n",
       "      <td>https://www.youtube.com/watch?v=j2A1_OOTTss</td>\n",
       "      <td>Oliver - Go With It (feat. Chromeo)-j2A1_OOTTs...</td>\n",
       "      <td>Oliver - Go With It (feat. Chromeo)</td>\n",
       "      <td>101.332721</td>\n",
       "      <td>C# Maj</td>\n",
       "    </tr>\n",
       "    <tr>\n",
       "      <th>4</th>\n",
       "      <td>VIeY1J1M9Ts</td>\n",
       "      <td>https://www.youtube.com/watch?v=VIeY1J1M9Ts</td>\n",
       "      <td>Vanilla - Go-VIeY1J1M9Ts.wav</td>\n",
       "      <td>Vanilla - Go</td>\n",
       "      <td>90.666118</td>\n",
       "      <td>d min</td>\n",
       "    </tr>\n",
       "  </tbody>\n",
       "</table>\n",
       "</div>"
      ],
      "text/plain": [
       "       song_id                                 youtube_link  \\\n",
       "0  ogv284C4W30  https://www.youtube.com/watch?v=ogv284C4W30   \n",
       "1  SF8DGbfOFig  https://www.youtube.com/watch?v=SF8DGbfOFig   \n",
       "2  Q77vdqA0hnM  https://www.youtube.com/watch?v=Q77vdqA0hnM   \n",
       "3  j2A1_OOTTss  https://www.youtube.com/watch?v=j2A1_OOTTss   \n",
       "4  VIeY1J1M9Ts  https://www.youtube.com/watch?v=VIeY1J1M9Ts   \n",
       "\n",
       "                                         output_file  \\\n",
       "0  Kygo, Sasha Sloan - I'll Wait (Lyric Video)-og...   \n",
       "1  Total Science & S.P.Y - Piano Funk (Ft. Riya &...   \n",
       "2                         Two Scoops-Q77vdqA0hnM.wav   \n",
       "3  Oliver - Go With It (feat. Chromeo)-j2A1_OOTTs...   \n",
       "4                       Vanilla - Go-VIeY1J1M9Ts.wav   \n",
       "\n",
       "                                               title         BPM     key  \n",
       "0        Kygo, Sasha Sloan - I'll Wait (Lyric Video)  123.046875  C# Maj  \n",
       "1  Total Science & S.P.Y - Piano Funk (Ft. Riya &...   87.592691  G# Maj  \n",
       "2                                         Two Scoops  172.265625   c min  \n",
       "3                Oliver - Go With It (feat. Chromeo)  101.332721  C# Maj  \n",
       "4                                       Vanilla - Go   90.666118   d min  "
      ]
     },
     "execution_count": 24,
     "metadata": {},
     "output_type": "execute_result"
    }
   ],
   "source": [
    "audio_features.head()"
   ]
  },
  {
   "cell_type": "markdown",
   "id": "c0e3df9d-2899-45a3-882e-d3059ba713d3",
   "metadata": {},
   "source": [
    "# Split songs with Spleeter"
   ]
  },
  {
   "cell_type": "code",
   "execution_count": 25,
   "id": "cdac8172-d438-4b24-8473-59f7e7c3c108",
   "metadata": {},
   "outputs": [],
   "source": [
    "# Using embedded configuration.\n",
    "separator = Separator('spleeter:4stems')\n",
    "\n",
    "def split_song(filename):\n",
    "    separator.separate_to_file(filename, 'Downloads/')"
   ]
  },
  {
   "cell_type": "code",
   "execution_count": 26,
   "id": "475cc488-7d36-4113-86d1-4f79152a5474",
   "metadata": {},
   "outputs": [
    {
     "name": "stdout",
     "output_type": "stream",
     "text": [
      "INFO:tensorflow:Apply unet for vocals_spectrogram\n",
      "INFO:tensorflow:Apply unet for drums_spectrogram\n",
      "INFO:tensorflow:Apply unet for bass_spectrogram\n",
      "INFO:tensorflow:Apply unet for other_spectrogram\n",
      "INFO:tensorflow:Restoring parameters from pretrained_models/4stems/model\n"
     ]
    }
   ],
   "source": [
    "for file in audio_features['output_file']:\n",
    "    split_song(file)"
   ]
  },
  {
   "cell_type": "markdown",
   "id": "142facf0-f01d-4ba6-8098-a5008b8b629e",
   "metadata": {},
   "source": [
    "# Merge 2 wav files to new song"
   ]
  },
  {
   "cell_type": "markdown",
   "id": "3c2534e7-ce9a-4100-b077-db264a27f1d9",
   "metadata": {},
   "source": [
    "https://www.youtube.com/watch?v=0ALKGR0I5MA"
   ]
  },
  {
   "cell_type": "code",
   "execution_count": 33,
   "id": "eddef7ed-e121-44bb-992f-96d099372141",
   "metadata": {
    "tags": []
   },
   "outputs": [
    {
     "name": "stdout",
     "output_type": "stream",
     "text": [
      "Estimated tempo: 123.05 beats per minute\n"
     ]
    }
   ],
   "source": [
    "song_1 = \"64 Ways (Dam Swindle's 65th Way Dub) feat. Mayer Hawthorne-SKUk9RUacDQ.wav\"\n",
    "tempo_1, beat_frames_1, beat_times_1 = get_BPM(song_1)"
   ]
  },
  {
   "cell_type": "code",
   "execution_count": 34,
   "id": "9ec9cfef-6404-4e24-88b3-76f4d7ec0bdf",
   "metadata": {
    "tags": []
   },
   "outputs": [
    {
     "data": {
      "text/plain": [
       "array([    9,    52,    94,   136,   178,   220,   262,   304,   346,\n",
       "         388,   430,   472,   514,   556,   598,   640,   682,   724,\n",
       "         766,   808,   850,   892,   934,   976,  1018,  1060,  1102,\n",
       "        1144,  1186,  1228,  1270,  1312,  1354,  1396,  1438,  1480,\n",
       "        1522,  1564,  1606,  1648,  1690,  1732,  1774,  1817,  1858,\n",
       "        1900,  1942,  1984,  2026,  2069,  2111,  2152,  2194,  2236,\n",
       "        2279,  2321,  2363,  2405,  2447,  2489,  2531,  2573,  2615,\n",
       "        2657,  2699,  2741,  2783,  2825,  2867,  2909,  2951,  2993,\n",
       "        3035,  3077,  3119,  3161,  3203,  3245,  3287,  3329,  3371,\n",
       "        3413,  3455,  3497,  3539,  3581,  3623,  3665,  3707,  3749,\n",
       "        3791,  3833,  3875,  3917,  3959,  4001,  4043,  4085,  4127,\n",
       "        4169,  4211,  4253,  4295,  4338,  4379,  4422,  4463,  4505,\n",
       "        4547,  4590,  4632,  4674,  4716,  4758,  4800,  4842,  4884,\n",
       "        4926,  4968,  5010,  5052,  5094,  5136,  5178,  5220,  5262,\n",
       "        5304,  5346,  5388,  5431,  5472,  5514,  5556,  5598,  5640,\n",
       "        5682,  5724,  5766,  5808,  5850,  5892,  5934,  5976,  6018,\n",
       "        6060,  6102,  6144,  6186,  6228,  6270,  6312,  6355,  6396,\n",
       "        6439,  6480,  6522,  6564,  6606,  6648,  6691,  6732,  6774,\n",
       "        6816,  6859,  6901,  6943,  6984,  7027,  7069,  7111,  7153,\n",
       "        7195,  7237,  7279,  7321,  7363,  7405,  7447,  7489,  7531,\n",
       "        7573,  7615,  7657,  7699,  7742,  7783,  7825,  7867,  7910,\n",
       "        7951,  7991,  8031,  8070,  8118,  8161,  8203,  8245,  8287,\n",
       "        8329,  8371,  8413,  8455,  8497,  8539,  8581,  8623,  8665,\n",
       "        8707,  8749,  8791,  8833,  8875,  8917,  8959,  9001,  9043,\n",
       "        9085,  9128,  9169,  9211,  9253,  9295,  9337,  9379,  9422,\n",
       "        9464,  9505,  9547,  9589,  9632,  9673,  9716,  9758,  9800,\n",
       "        9841,  9884,  9926,  9968, 10009, 10052, 10094, 10136, 10178,\n",
       "       10220, 10262, 10304, 10346, 10388, 10430, 10472, 10514, 10556,\n",
       "       10598, 10640, 10682, 10724, 10767, 10808, 10850, 10892, 10934,\n",
       "       10976, 11018, 11060, 11102, 11144, 11186, 11228, 11270, 11312,\n",
       "       11354, 11396, 11438, 11480, 11522, 11564, 11606, 11648, 11690,\n",
       "       11732, 11774, 11817, 11858, 11900, 11942, 11984, 12026, 12069,\n",
       "       12111, 12153, 12195, 12237, 12279, 12321, 12363, 12405, 12447,\n",
       "       12489, 12531, 12573, 12615, 12657, 12699, 12741, 12783, 12825,\n",
       "       12867, 12909, 12951, 12993, 13035, 13077, 13119, 13161, 13203,\n",
       "       13245, 13287, 13330, 13372, 13414, 13456, 13498, 13539, 13581,\n",
       "       13623, 13665, 13707, 13749, 13791, 13833, 13875, 13917, 13959,\n",
       "       14001, 14043, 14085, 14127, 14170, 14211, 14253, 14295, 14337,\n",
       "       14379, 14422, 14463, 14506, 14547, 14589, 14631, 14674, 14715,\n",
       "       14757, 14793, 14842, 14884, 14926, 14968, 15010, 15052, 15094,\n",
       "       15136, 15178, 15220, 15262, 15304, 15346, 15388, 15430, 15472,\n",
       "       15514, 15556, 15598, 15640, 15682, 15724, 15766, 15808, 15850,\n",
       "       15892, 15934, 15976, 16018, 16060, 16102, 16145, 16187, 16228,\n",
       "       16270, 16312, 16354, 16396, 16438, 16480, 16522, 16564, 16606,\n",
       "       16648, 16690, 16732, 16774, 16816, 16859, 16900, 16942, 16984,\n",
       "       17027, 17068, 17111, 17153, 17195, 17236, 17279, 17321, 17363,\n",
       "       17405, 17447, 17489, 17531, 17573, 17615, 17657, 17699, 17741,\n",
       "       17783, 17825, 17867, 17909, 17951, 17993, 18035, 18077, 18119,\n",
       "       18161, 18203, 18245, 18287, 18329, 18371, 18413, 18455, 18497,\n",
       "       18539, 18581, 18623, 18665, 18708, 18749, 18792, 18835, 18876,\n",
       "       18917, 18959, 19001, 19043, 19085, 19127, 19169, 19211, 19253,\n",
       "       19295, 19337, 19379, 19421, 19463, 19505, 19547, 19589, 19631,\n",
       "       19673, 19715, 19757, 19799, 19841, 19883, 19925, 19967, 20010,\n",
       "       20052, 20094, 20136, 20178, 20220, 20262, 20304, 20346, 20388,\n",
       "       20430, 20472, 20514, 20556, 20598, 20640, 20682, 20724, 20766,\n",
       "       20808, 20850, 20892, 20934, 20976, 21018, 21060, 21102, 21144,\n",
       "       21186, 21228, 21270, 21312, 21354, 21396, 21438, 21480, 21522,\n",
       "       21564, 21606, 21648, 21690, 21732, 21774, 21816, 21858, 21900,\n",
       "       21942, 21984, 22026, 22068, 22110, 22152, 22194, 22237, 22279,\n",
       "       22321, 22363, 22405, 22447, 22489, 22531, 22573, 22615, 22657,\n",
       "       22699, 22741, 22783, 22825, 22867, 22909, 22951, 22993, 23035,\n",
       "       23077, 23119, 23161, 23203, 23245, 23287, 23329, 23371, 23413,\n",
       "       23455, 23497, 23539, 23581, 23623, 23665, 23707, 23749, 23791,\n",
       "       23833, 23875, 23917, 23959, 24001, 24043, 24085, 24127, 24169,\n",
       "       24210, 24251, 24292, 24333, 24374, 24415, 24457, 24498, 24539,\n",
       "       24589, 24631, 24673, 24716, 24758, 24799, 24841, 24884, 24926,\n",
       "       24967, 25009, 25052, 25094, 25135, 25177, 25213, 25262, 25303,\n",
       "       25345, 25388, 25430, 25472, 25514, 25556, 25598, 25640, 25682,\n",
       "       25724, 25766, 25808, 25850, 25892, 25934, 25976, 26018, 26060,\n",
       "       26102, 26144, 26186, 26228, 26270, 26312, 26354, 26396, 26438,\n",
       "       26480, 26522, 26564, 26606, 26648, 26690, 26732, 26774, 26816,\n",
       "       26858, 26900, 26943, 26984, 27026, 27070, 27111, 27153, 27195,\n",
       "       27244, 27293, 27341, 27377, 27426, 27468, 27510, 27546, 27594,\n",
       "       27630, 27677, 27713, 27762, 27798, 27846, 27882, 27930, 27972,\n",
       "       28014, 28050, 28098, 28134, 28182, 28218, 28266, 28308, 28350,\n",
       "       28386, 28434, 28470, 28512, 28554, 28602, 28645, 28686, 28722,\n",
       "       28770, 28806, 28854, 28890, 28938, 28974, 29022, 29058, 29106,\n",
       "       29142, 29190, 29226, 29275, 29317, 29358, 29394, 29442, 29478,\n",
       "       29526, 29562, 29610, 29646, 29694, 29730, 29779, 29821, 29863,\n",
       "       29899, 29946, 29982, 30030, 30066, 30115, 30150, 30193, 30234,\n",
       "       30283, 30319, 30367, 30403, 30451, 30493, 30535, 30571, 30619,\n",
       "       30661, 30703, 30745, 30787, 30829, 30871, 30913, 30955, 30997,\n",
       "       31039, 31081, 31123, 31165, 31208, 31250, 31292, 31334, 31375,\n",
       "       31411, 31459, 31495, 31543, 31579, 31627, 31663, 31711, 31747,\n",
       "       31795, 31831, 31874, 31915, 31963, 31999, 32047, 32083, 32131,\n",
       "       32167, 32210, 32251, 32299, 32335, 32383, 32419, 32467, 32503,\n",
       "       32546, 32587, 32635, 32671, 32719, 32755, 32803, 32839, 32882,\n",
       "       32923, 32972, 33008, 33056, 33092, 33140, 33175, 33218, 33259,\n",
       "       33308, 33344, 33392, 33428, 33476, 33518, 33560, 33602, 33644,\n",
       "       33686, 33728, 33770, 33812, 33854, 33896, 33932, 33968, 34004,\n",
       "       34043, 34085, 34127, 34169, 34211, 34253, 34295, 34337, 34379,\n",
       "       34421, 34463, 34505, 34547, 34589, 34631, 34673, 34715, 34757,\n",
       "       34799, 34841, 34883, 34926, 34967, 35009, 35051, 35093, 35135,\n",
       "       35177, 35219, 35262, 35304, 35346, 35387, 35430, 35472, 35514,\n",
       "       35556, 35598, 35640, 35682, 35724, 35766, 35808, 35850, 35892,\n",
       "       35934, 35976, 36018, 36060, 36102, 36144, 36186, 36228, 36270,\n",
       "       36312, 36354, 36396, 36438, 36480, 36522, 36564, 36607])"
      ]
     },
     "execution_count": 34,
     "metadata": {},
     "output_type": "execute_result"
    }
   ],
   "source": [
    "beat_frames_1"
   ]
  },
  {
   "cell_type": "code",
   "execution_count": 35,
   "id": "6a8741cd-fcf2-4c50-a2a5-cf4f0f0351f0",
   "metadata": {},
   "outputs": [
    {
     "name": "stdout",
     "output_type": "stream",
     "text": [
      "Estimated tempo: 123.05 beats per minute\n"
     ]
    }
   ],
   "source": [
    "song_2 = \"Kygo, Sasha Sloan - I'll Wait (Lyric Video)-ogv284C4W30.wav\"\n",
    "tempo_2, beat_frames_2, beat_times_2 = get_BPM(song_2)"
   ]
  },
  {
   "cell_type": "code",
   "execution_count": 36,
   "id": "fba11af6-71be-4c25-90f0-98d0bf2ea5a5",
   "metadata": {
    "tags": []
   },
   "outputs": [
    {
     "data": {
      "text/plain": [
       "array([ 1114,  1157,  1201,  1240,  1283,  1329,  1370,  1411,  1455,\n",
       "        1500,  1536,  1578,  1619,  1661,  1706,  1744,  1781,  1826,\n",
       "        1864,  1904,  1940,  1976,  2017,  2059,  2101,  2137,  2184,\n",
       "        2228,  2270,  2312,  2353,  2395,  2437,  2479,  2526,  2574,\n",
       "        2620,  2666,  2710,  2747,  2787,  2827,  2870,  2912,  2954,\n",
       "        2995,  3036,  3074,  3119,  3164,  3203,  3242,  3281,  3320,\n",
       "        3360,  3401,  3444,  3479,  3518,  3561,  3602,  3642,  3682,\n",
       "        3722,  3762,  3802,  3844,  3887,  3929,  3971,  4011,  4055,\n",
       "        4097,  4139,  4180,  4223,  4262,  4307,  4349,  4391,  4433,\n",
       "        4475,  4516,  4559,  4601,  4643,  4684,  4727,  4769,  4811,\n",
       "        4851,  4895,  4937,  4979,  5020,  5063,  5106,  5149,  5190,\n",
       "        5233,  5275,  5317,  5358,  5401,  5442,  5480,  5518,  5566,\n",
       "        5607,  5651,  5693,  5735,  5778,  5818,  5862,  5905,  5947,\n",
       "        5988,  6030,  6074,  6115,  6157,  6193,  6237,  6282,  6324,\n",
       "        6366,  6407,  6450,  6492,  6533,  6576,  6618,  6660,  6702,\n",
       "        6744,  6786,  6828,  6870,  6912,  6954,  6997,  7038,  7080,\n",
       "        7122,  7164,  7207,  7248,  7290,  7332,  7374,  7416,  7458,\n",
       "        7500,  7543,  7584,  7626,  7668,  7711,  7753,  7795,  7837,\n",
       "        7878,  7920,  7962,  8004,  8046,  8088,  8130,  8172,  8214,\n",
       "        8256,  8299,  8341,  8383,  8425,  8467,  8509,  8551,  8593,\n",
       "        8635,  8677,  8719,  8761,  8803,  8845,  8887,  8929,  8971,\n",
       "        9013,  9055,  9097,  9139,  9181,  9221,  9262,  9305,  9347,\n",
       "        9389,  9432,  9475,  9518,  9555,  9601,  9642,  9684,  9722,\n",
       "        9764,  9804,  9847,  9890,  9928,  9967, 10006, 10044, 10084,\n",
       "       10135, 10180, 10223, 10265, 10307, 10349, 10391, 10433, 10472,\n",
       "       10512, 10557, 10597, 10635, 10673, 10712, 10754, 10795, 10834,\n",
       "       10869, 10904, 10946, 10988, 11030, 11069, 11113, 11156, 11197,\n",
       "       11239, 11282, 11321, 11366, 11408, 11450, 11491, 11533, 11575,\n",
       "       11618, 11660, 11702, 11743, 11786, 11828, 11870, 11910, 11954,\n",
       "       11996, 12038, 12081, 12124, 12166, 12208, 12249, 12291, 12333,\n",
       "       12375, 12417, 12459, 12501, 12539, 12577, 12625, 12665, 12709,\n",
       "       12752, 12794, 12837, 12876, 12920, 12963, 13005, 13047, 13089,\n",
       "       13132, 13173, 13215, 13252, 13296, 13340, 13382, 13425, 13466,\n",
       "       13509, 13551, 13594, 13636, 13677, 13719, 13761, 13803, 13844,\n",
       "       13886, 13928, 13971, 14013, 14055, 14097, 14139, 14179, 14220,\n",
       "       14259, 14297, 14349, 14391, 14433, 14475, 14517, 14559, 14601,\n",
       "       14643, 14685, 14727, 14769, 14811, 14853, 14895, 14937, 14979,\n",
       "       15021, 15063, 15105, 15147, 15189, 15231, 15273, 15315, 15357,\n",
       "       15399, 15441, 15483, 15525, 15567, 15609, 15651, 15693, 15735,\n",
       "       15777, 15819, 15861, 15903, 15945, 15987, 16029, 16071, 16114,\n",
       "       16156, 16198, 16239, 16282, 16324, 16366, 16408, 16450, 16492,\n",
       "       16534, 16576, 16618, 16660, 16702, 16744, 16786, 16828, 16870,\n",
       "       16912, 16954, 16996, 17038, 17080, 17122, 17164, 17206, 17248,\n",
       "       17290, 17332, 17374, 17416, 17458, 17500, 17542, 17584, 17625,\n",
       "       17668, 17710, 17752, 17789, 17826, 17868, 17911, 17954, 18002,\n",
       "       18043, 18086, 18129, 18172, 18215, 18254, 18297, 18341, 18382,\n",
       "       18425, 18466, 18511, 18554, 18593, 18629, 18672, 18716, 18755,\n",
       "       18796, 18842, 18887, 18928])"
      ]
     },
     "execution_count": 36,
     "metadata": {},
     "output_type": "execute_result"
    }
   ],
   "source": [
    "beat_frames_2"
   ]
  },
  {
   "cell_type": "code",
   "execution_count": 46,
   "id": "3610937d-2515-47a1-bae3-982cd6e5dab4",
   "metadata": {},
   "outputs": [
    {
     "data": {
      "text/plain": [
       "<_io.BufferedRandom name='Mixed songs/64_kygo_combined2.wav'>"
      ]
     },
     "execution_count": 46,
     "metadata": {},
     "output_type": "execute_result"
    }
   ],
   "source": [
    "sound1 = AudioSegment.from_file(\"Downloads/64 Ways (Dam Swindle's 65th Way Dub) feat. Mayer Hawthorne-SKUk9RUacDQ/drums.wav\")\n",
    "sound2 = AudioSegment.from_file(\"Downloads/Kygo, Sasha Sloan - I'll Wait (Lyric Video)-ogv284C4W30/other.wav\")\n",
    "combined = sound1.overlay(sound2)\n",
    "\n",
    "combined.export(\"Mixed songs/64_kygo_combined2.wav\", format='wav')"
   ]
  },
  {
   "cell_type": "code",
   "execution_count": 47,
   "id": "66eed69e-3edd-487a-aa36-1ceea41513a1",
   "metadata": {},
   "outputs": [
    {
     "ename": "KeyboardInterrupt",
     "evalue": "",
     "output_type": "error",
     "traceback": [
      "\u001b[0;31m---------------------------------------------------------------------------\u001b[0m",
      "\u001b[0;31mKeyboardInterrupt\u001b[0m                         Traceback (most recent call last)",
      "\u001b[0;32m<ipython-input-47-de9ad41839ad>\u001b[0m in \u001b[0;36m<module>\u001b[0;34m\u001b[0m\n\u001b[1;32m     31\u001b[0m \u001b[0mfilenames\u001b[0m \u001b[0;34m=\u001b[0m \u001b[0;34m[\u001b[0m\u001b[0;34m]\u001b[0m\u001b[0;34m\u001b[0m\u001b[0;34m\u001b[0m\u001b[0m\n\u001b[1;32m     32\u001b[0m \u001b[0;34m\u001b[0m\u001b[0m\n\u001b[0;32m---> 33\u001b[0;31m \u001b[0my\u001b[0m\u001b[0;34m,\u001b[0m \u001b[0msr\u001b[0m \u001b[0;34m=\u001b[0m \u001b[0mlibrosa\u001b[0m\u001b[0;34m.\u001b[0m\u001b[0mload\u001b[0m\u001b[0;34m(\u001b[0m\u001b[0;34m\"Kygo, Sasha Sloan - I'll Wait (Lyric Video)-ogv284C4W30.wav\"\u001b[0m\u001b[0;34m,\u001b[0m \u001b[0msr\u001b[0m\u001b[0;34m=\u001b[0m\u001b[0;36m44100\u001b[0m\u001b[0;34m)\u001b[0m\u001b[0;34m\u001b[0m\u001b[0;34m\u001b[0m\u001b[0m\n\u001b[0m\u001b[1;32m     34\u001b[0m \u001b[0mC\u001b[0m \u001b[0;34m=\u001b[0m \u001b[0mnp\u001b[0m\u001b[0;34m.\u001b[0m\u001b[0mabs\u001b[0m\u001b[0;34m(\u001b[0m\u001b[0mlibrosa\u001b[0m\u001b[0;34m.\u001b[0m\u001b[0mcqt\u001b[0m\u001b[0;34m(\u001b[0m\u001b[0my\u001b[0m\u001b[0;34m=\u001b[0m\u001b[0my\u001b[0m\u001b[0;34m,\u001b[0m \u001b[0msr\u001b[0m\u001b[0;34m=\u001b[0m\u001b[0msr\u001b[0m\u001b[0;34m)\u001b[0m\u001b[0;34m)\u001b[0m\u001b[0;34m\u001b[0m\u001b[0;34m\u001b[0m\u001b[0m\n\u001b[1;32m     35\u001b[0m \u001b[0mo_env\u001b[0m \u001b[0;34m=\u001b[0m \u001b[0mlibrosa\u001b[0m\u001b[0;34m.\u001b[0m\u001b[0monset\u001b[0m\u001b[0;34m.\u001b[0m\u001b[0monset_strength\u001b[0m\u001b[0;34m(\u001b[0m\u001b[0msr\u001b[0m\u001b[0;34m=\u001b[0m\u001b[0msr\u001b[0m\u001b[0;34m,\u001b[0m \u001b[0mS\u001b[0m\u001b[0;34m=\u001b[0m\u001b[0mlibrosa\u001b[0m\u001b[0;34m.\u001b[0m\u001b[0mamplitude_to_db\u001b[0m\u001b[0;34m(\u001b[0m\u001b[0mC\u001b[0m\u001b[0;34m,\u001b[0m \u001b[0mref\u001b[0m\u001b[0;34m=\u001b[0m\u001b[0mnp\u001b[0m\u001b[0;34m.\u001b[0m\u001b[0mmax\u001b[0m\u001b[0;34m)\u001b[0m\u001b[0;34m)\u001b[0m\u001b[0;34m\u001b[0m\u001b[0;34m\u001b[0m\u001b[0m\n",
      "\u001b[0;32m~/.pyenv/versions/3.8.6/envs/lewagon/lib/python3.8/site-packages/librosa/core/audio.py\u001b[0m in \u001b[0;36mload\u001b[0;34m(path, sr, mono, offset, duration, dtype, res_type)\u001b[0m\n\u001b[1;32m    170\u001b[0m \u001b[0;34m\u001b[0m\u001b[0m\n\u001b[1;32m    171\u001b[0m     \u001b[0;32mif\u001b[0m \u001b[0msr\u001b[0m \u001b[0;32mis\u001b[0m \u001b[0;32mnot\u001b[0m \u001b[0;32mNone\u001b[0m\u001b[0;34m:\u001b[0m\u001b[0;34m\u001b[0m\u001b[0;34m\u001b[0m\u001b[0m\n\u001b[0;32m--> 172\u001b[0;31m         \u001b[0my\u001b[0m \u001b[0;34m=\u001b[0m \u001b[0mresample\u001b[0m\u001b[0;34m(\u001b[0m\u001b[0my\u001b[0m\u001b[0;34m,\u001b[0m \u001b[0msr_native\u001b[0m\u001b[0;34m,\u001b[0m \u001b[0msr\u001b[0m\u001b[0;34m,\u001b[0m \u001b[0mres_type\u001b[0m\u001b[0;34m=\u001b[0m\u001b[0mres_type\u001b[0m\u001b[0;34m)\u001b[0m\u001b[0;34m\u001b[0m\u001b[0;34m\u001b[0m\u001b[0m\n\u001b[0m\u001b[1;32m    173\u001b[0m \u001b[0;34m\u001b[0m\u001b[0m\n\u001b[1;32m    174\u001b[0m     \u001b[0;32melse\u001b[0m\u001b[0;34m:\u001b[0m\u001b[0;34m\u001b[0m\u001b[0;34m\u001b[0m\u001b[0m\n",
      "\u001b[0;32m~/.pyenv/versions/3.8.6/envs/lewagon/lib/python3.8/site-packages/librosa/core/audio.py\u001b[0m in \u001b[0;36mresample\u001b[0;34m(y, orig_sr, target_sr, res_type, fix, scale, **kwargs)\u001b[0m\n\u001b[1;32m    582\u001b[0m         \u001b[0my_hat\u001b[0m \u001b[0;34m=\u001b[0m \u001b[0msamplerate\u001b[0m\u001b[0;34m.\u001b[0m\u001b[0mresample\u001b[0m\u001b[0;34m(\u001b[0m\u001b[0my\u001b[0m\u001b[0;34m.\u001b[0m\u001b[0mT\u001b[0m\u001b[0;34m,\u001b[0m \u001b[0mratio\u001b[0m\u001b[0;34m,\u001b[0m \u001b[0mconverter_type\u001b[0m\u001b[0;34m=\u001b[0m\u001b[0mres_type\u001b[0m\u001b[0;34m)\u001b[0m\u001b[0;34m.\u001b[0m\u001b[0mT\u001b[0m\u001b[0;34m\u001b[0m\u001b[0;34m\u001b[0m\u001b[0m\n\u001b[1;32m    583\u001b[0m     \u001b[0;32melse\u001b[0m\u001b[0;34m:\u001b[0m\u001b[0;34m\u001b[0m\u001b[0;34m\u001b[0m\u001b[0m\n\u001b[0;32m--> 584\u001b[0;31m         \u001b[0my_hat\u001b[0m \u001b[0;34m=\u001b[0m \u001b[0mresampy\u001b[0m\u001b[0;34m.\u001b[0m\u001b[0mresample\u001b[0m\u001b[0;34m(\u001b[0m\u001b[0my\u001b[0m\u001b[0;34m,\u001b[0m \u001b[0morig_sr\u001b[0m\u001b[0;34m,\u001b[0m \u001b[0mtarget_sr\u001b[0m\u001b[0;34m,\u001b[0m \u001b[0mfilter\u001b[0m\u001b[0;34m=\u001b[0m\u001b[0mres_type\u001b[0m\u001b[0;34m,\u001b[0m \u001b[0maxis\u001b[0m\u001b[0;34m=\u001b[0m\u001b[0;34m-\u001b[0m\u001b[0;36m1\u001b[0m\u001b[0;34m)\u001b[0m\u001b[0;34m\u001b[0m\u001b[0;34m\u001b[0m\u001b[0m\n\u001b[0m\u001b[1;32m    585\u001b[0m \u001b[0;34m\u001b[0m\u001b[0m\n\u001b[1;32m    586\u001b[0m     \u001b[0;32mif\u001b[0m \u001b[0mfix\u001b[0m\u001b[0;34m:\u001b[0m\u001b[0;34m\u001b[0m\u001b[0;34m\u001b[0m\u001b[0m\n",
      "\u001b[0;32m~/.pyenv/versions/3.8.6/envs/lewagon/lib/python3.8/site-packages/resampy/core.py\u001b[0m in \u001b[0;36mresample\u001b[0;34m(x, sr_orig, sr_new, axis, filter, **kwargs)\u001b[0m\n\u001b[1;32m    118\u001b[0m     \u001b[0mx_2d\u001b[0m \u001b[0;34m=\u001b[0m \u001b[0mx\u001b[0m\u001b[0;34m.\u001b[0m\u001b[0mswapaxes\u001b[0m\u001b[0;34m(\u001b[0m\u001b[0;36m0\u001b[0m\u001b[0;34m,\u001b[0m \u001b[0maxis\u001b[0m\u001b[0;34m)\u001b[0m\u001b[0;34m.\u001b[0m\u001b[0mreshape\u001b[0m\u001b[0;34m(\u001b[0m\u001b[0;34m(\u001b[0m\u001b[0mx\u001b[0m\u001b[0;34m.\u001b[0m\u001b[0mshape\u001b[0m\u001b[0;34m[\u001b[0m\u001b[0maxis\u001b[0m\u001b[0;34m]\u001b[0m\u001b[0;34m,\u001b[0m \u001b[0;34m-\u001b[0m\u001b[0;36m1\u001b[0m\u001b[0;34m)\u001b[0m\u001b[0;34m)\u001b[0m\u001b[0;34m\u001b[0m\u001b[0;34m\u001b[0m\u001b[0m\n\u001b[1;32m    119\u001b[0m     \u001b[0my_2d\u001b[0m \u001b[0;34m=\u001b[0m \u001b[0my\u001b[0m\u001b[0;34m.\u001b[0m\u001b[0mswapaxes\u001b[0m\u001b[0;34m(\u001b[0m\u001b[0;36m0\u001b[0m\u001b[0;34m,\u001b[0m \u001b[0maxis\u001b[0m\u001b[0;34m)\u001b[0m\u001b[0;34m.\u001b[0m\u001b[0mreshape\u001b[0m\u001b[0;34m(\u001b[0m\u001b[0;34m(\u001b[0m\u001b[0my\u001b[0m\u001b[0;34m.\u001b[0m\u001b[0mshape\u001b[0m\u001b[0;34m[\u001b[0m\u001b[0maxis\u001b[0m\u001b[0;34m]\u001b[0m\u001b[0;34m,\u001b[0m \u001b[0;34m-\u001b[0m\u001b[0;36m1\u001b[0m\u001b[0;34m)\u001b[0m\u001b[0;34m)\u001b[0m\u001b[0;34m\u001b[0m\u001b[0;34m\u001b[0m\u001b[0m\n\u001b[0;32m--> 120\u001b[0;31m     \u001b[0mresample_f\u001b[0m\u001b[0;34m(\u001b[0m\u001b[0mx_2d\u001b[0m\u001b[0;34m,\u001b[0m \u001b[0my_2d\u001b[0m\u001b[0;34m,\u001b[0m \u001b[0msample_ratio\u001b[0m\u001b[0;34m,\u001b[0m \u001b[0minterp_win\u001b[0m\u001b[0;34m,\u001b[0m \u001b[0minterp_delta\u001b[0m\u001b[0;34m,\u001b[0m \u001b[0mprecision\u001b[0m\u001b[0;34m)\u001b[0m\u001b[0;34m\u001b[0m\u001b[0;34m\u001b[0m\u001b[0m\n\u001b[0m\u001b[1;32m    121\u001b[0m \u001b[0;34m\u001b[0m\u001b[0m\n\u001b[1;32m    122\u001b[0m     \u001b[0;32mreturn\u001b[0m \u001b[0my\u001b[0m\u001b[0;34m\u001b[0m\u001b[0;34m\u001b[0m\u001b[0m\n",
      "\u001b[0;31mKeyboardInterrupt\u001b[0m: "
     ]
    }
   ],
   "source": [
    "import argparse\n",
    "import matplotlib.pyplot as plt\n",
    "import librosa\n",
    "import numpy as np\n",
    "import os\n",
    "import soundfile as sf\n",
    "\n",
    "\n",
    "def prepare(y, sr=22050):\n",
    "    y = librosa.to_mono(y)\n",
    "    y = librosa.util.fix_length(y, sr) # 1 second of audio\n",
    "    y = librosa.util.normalize(y)\n",
    "    return; y\n",
    "\n",
    "def get_fingerprint(y, sr=22050):\n",
    "    y = prepare(y, sr)\n",
    "    cqt = librosa.cqt(y, sr=sr, hop_length=2048)\n",
    "    return cqt.flatten('F')\n",
    "\n",
    "def normalize(x):\n",
    "    x -= x.min(axis=0)\n",
    "    x /= x.max(axis=0)\n",
    "    return x\n",
    "\n",
    "def basename(file):\n",
    "    file = os.path.basename(file)\n",
    "    return os.path.splitext(file)[0]\n",
    "\n",
    "vectors = []\n",
    "words = []\n",
    "filenames = []\n",
    "\n",
    "y, sr = librosa.load(\"Kygo, Sasha Sloan - I'll Wait (Lyric Video)-ogv284C4W30.wav\", sr=44100)\n",
    "C = np.abs(librosa.cqt(y=y, sr=sr))\n",
    "o_env = librosa.onset.onset_strength(sr=sr, S=librosa.amplitude_to_db(C, ref=np.max))\n",
    "onset_frames = librosa.onset.onset_detect(onset_envelope=o_env, sr=sr)\n",
    "\n",
    "onset_samples = list(librosa.frames_to_samples(onset_frames))\n",
    "onset_samples = np.concatenate(onset_samples, len(y))\n",
    "starts = onset_samples[0:-1]\n",
    "stops = onset_samples[1:]\n",
    "analysis_folder = \"Mixed songs/\"\n",
    "samples_folder = os.path.join(\"Mixed songs/\", 'samples')\n",
    "try:\n",
    "\tos.makedirs(samples_folder)\n",
    "except:\n",
    "\tpass\n",
    "enumeration = enumerate(zip(starts, stops))\n",
    "#print(list(enumeration))\n",
    "for i, (start, stop) in enumeration:\n",
    "    audio = y[start:stop]\n",
    "    filename = os.path.join(samples_folder, str(i) + '.wav')\n",
    "    sf.write(filename, audio, sr)\n",
    "    vector = get_fingerprint(audio, sr=sr)\n",
    "    word = basename(filename)\n",
    "    vectors.append(vector)\n",
    "    words.append(word)\n",
    "    filenames.append(filename)\n",
    "np.savetxt(os.path.join(analysis_folder, 'vectors'), vectors, fmt='%.5f', delimiter='\\t')\n",
    "np.savetxt(os.path.join(analysis_folder, 'words'), words, fmt='%s')\n",
    "np.savetxt(os.path.join(analysis_folder, 'filenames.txt'), filenames, fmt='%s')"
   ]
  },
  {
   "cell_type": "code",
   "execution_count": null,
   "id": "0588eca3-feae-48da-bc3c-12e4913a8bc0",
   "metadata": {},
   "outputs": [],
   "source": []
  }
 ],
 "metadata": {
  "kernelspec": {
   "display_name": "Python 3",
   "language": "python",
   "name": "python3"
  },
  "language_info": {
   "codemirror_mode": {
    "name": "ipython",
    "version": 3
   },
   "file_extension": ".py",
   "mimetype": "text/x-python",
   "name": "python",
   "nbconvert_exporter": "python",
   "pygments_lexer": "ipython3",
   "version": "3.8.6"
  }
 },
 "nbformat": 4,
 "nbformat_minor": 5
}
