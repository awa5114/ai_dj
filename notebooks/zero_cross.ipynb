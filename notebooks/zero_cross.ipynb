{
 "cells": [
  {
   "cell_type": "code",
   "execution_count": 176,
   "id": "3c7855b7-c436-4c3d-9834-99b8d1a85843",
   "metadata": {},
   "outputs": [],
   "source": [
    "import librosa\n",
    "import numpy as np\n",
    "import matplotlib.pyplot as plt\n",
    "import pandas as pd"
   ]
  },
  {
   "cell_type": "code",
   "execution_count": 145,
   "id": "83d68bf7-d417-4d2b-a922-18ec369862b1",
   "metadata": {},
   "outputs": [
    {
     "name": "stderr",
     "output_type": "stream",
     "text": [
      "/Users/judithvanleersum/.pyenv/versions/3.8.6/envs/ai_dj/lib/python3.8/site-packages/librosa/core/audio.py:162: UserWarning: PySoundFile failed. Trying audioread instead.\n",
      "  warnings.warn(\"PySoundFile failed. Trying audioread instead.\")\n"
     ]
    },
    {
     "data": {
      "text/plain": [
       "660984"
      ]
     },
     "execution_count": 145,
     "metadata": {},
     "output_type": "execute_result"
    }
   ],
   "source": [
    "y, sr = librosa.load(\"../raw_data/056247.mp3\")\n",
    "len(y)"
   ]
  },
  {
   "cell_type": "code",
   "execution_count": 146,
   "id": "67fd0281-c5ab-472c-84d7-8b07385e5171",
   "metadata": {},
   "outputs": [
    {
     "data": {
      "text/plain": [
       "array([ True, False, False, ..., False, False,  True])"
      ]
     },
     "execution_count": 146,
     "metadata": {},
     "output_type": "execute_result"
    }
   ],
   "source": [
    "z = librosa.zero_crossings(y)\n",
    "z"
   ]
  },
  {
   "cell_type": "code",
   "execution_count": 147,
   "id": "d01e8269-56ad-4011-8217-f7b7ed3cfb9f",
   "metadata": {},
   "outputs": [
    {
     "data": {
      "text/plain": [
       "array([[-0.02722292,  1.        ],\n",
       "       [-0.03561183,  0.        ],\n",
       "       [-0.03010173,  0.        ],\n",
       "       ...,\n",
       "       [-0.03114805,  0.        ],\n",
       "       [-0.00685424,  0.        ],\n",
       "       [ 0.        ,  1.        ]], dtype=float32)"
      ]
     },
     "execution_count": 147,
     "metadata": {},
     "output_type": "execute_result"
    }
   ],
   "source": [
    "z_stack = librosa.util.stack([y, z], axis=-1)\n",
    "z_stack"
   ]
  },
  {
   "cell_type": "code",
   "execution_count": 152,
   "id": "279760ea-1af3-44d6-815d-a1e7ccce6ef4",
   "metadata": {},
   "outputs": [
    {
     "data": {
      "text/plain": [
       "[<matplotlib.lines.Line2D at 0x14c6f2ee0>]"
      ]
     },
     "execution_count": 152,
     "metadata": {},
     "output_type": "execute_result"
    },
    {
     "data": {
      "image/png": "[encoded data removed]",
      "text/plain": [
       "<Figure size 432x288 with 1 Axes>"
      ]
     },
     "metadata": {
      "needs_background": "light"
     },
     "output_type": "display_data"
    }
   ],
   "source": [
    "plt.plot(z_stack[:,1], z_stack[:,0])\n",
    "# plt.xlim(0, 1000)"
   ]
  },
  {
   "cell_type": "code",
   "execution_count": null,
   "id": "72160f77-25ba-4049-9e57-e3560dcfbb0d",
   "metadata": {},
   "outputs": [],
   "source": []
  },
  {
   "cell_type": "code",
   "execution_count": 25,
   "id": "fc2dab61-806d-431e-ba28-b2c0c964b952",
   "metadata": {},
   "outputs": [
    {
     "data": {
      "text/plain": [
       "(array([     0,    217,    405, ..., 660954, 660969, 660983]),)"
      ]
     },
     "execution_count": 25,
     "metadata": {},
     "output_type": "execute_result"
    }
   ],
   "source": [
    "non_zero = np.nonzero(z)\n",
    "non_zero"
   ]
  },
  {
   "cell_type": "code",
   "execution_count": 52,
   "id": "e7a6f70d-ae4c-49df-8caa-6123b1777205",
   "metadata": {},
   "outputs": [
    {
     "data": {
      "text/plain": [
       "array([     0,    217,    405, ..., 660954, 660969, 660983])"
      ]
     },
     "execution_count": 52,
     "metadata": {},
     "output_type": "execute_result"
    }
   ],
   "source": [
    "non_zero = pd.Series(non_zero)\n",
    "non_zero[0]"
   ]
  },
  {
   "cell_type": "code",
   "execution_count": 57,
   "id": "43feb383-8c00-4bc8-9a7f-c033ac47215d",
   "metadata": {},
   "outputs": [],
   "source": [
    "zero_cross_df = pd.DataFrame()\n",
    "zero_cross_df[\"zero_crossing\"] = non_zero[0]"
   ]
  },
  {
   "cell_type": "code",
   "execution_count": 62,
   "id": "98842e10-225b-49b6-ba1c-bb04ae67d3a3",
   "metadata": {},
   "outputs": [],
   "source": [
    "zero_cross_df[\"difference\"] = zero_cross_df[\"zero_crossing\"].diff()"
   ]
  },
  {
   "cell_type": "code",
   "execution_count": 63,
   "id": "63a61d0d-45ce-408d-ade8-625fe28829a2",
   "metadata": {},
   "outputs": [
    {
     "data": {
      "text/html": [
       "<div>\n",
       "<style scoped>\n",
       "    .dataframe tbody tr th:only-of-type {\n",
       "        vertical-align: middle;\n",
       "    }\n",
       "\n",
       "    .dataframe tbody tr th {\n",
       "        vertical-align: top;\n",
       "    }\n",
       "\n",
       "    .dataframe thead th {\n",
       "        text-align: right;\n",
       "    }\n",
       "</style>\n",
       "<table border=\"1\" class=\"dataframe\">\n",
       "  <thead>\n",
       "    <tr style=\"text-align: right;\">\n",
       "      <th></th>\n",
       "      <th>zero_crossing</th>\n",
       "      <th>difference</th>\n",
       "    </tr>\n",
       "  </thead>\n",
       "  <tbody>\n",
       "    <tr>\n",
       "      <th>0</th>\n",
       "      <td>0</td>\n",
       "      <td>NaN</td>\n",
       "    </tr>\n",
       "    <tr>\n",
       "      <th>1</th>\n",
       "      <td>217</td>\n",
       "      <td>217.0</td>\n",
       "    </tr>\n",
       "    <tr>\n",
       "      <th>2</th>\n",
       "      <td>405</td>\n",
       "      <td>188.0</td>\n",
       "    </tr>\n",
       "    <tr>\n",
       "      <th>3</th>\n",
       "      <td>595</td>\n",
       "      <td>190.0</td>\n",
       "    </tr>\n",
       "    <tr>\n",
       "      <th>4</th>\n",
       "      <td>785</td>\n",
       "      <td>190.0</td>\n",
       "    </tr>\n",
       "    <tr>\n",
       "      <th>...</th>\n",
       "      <td>...</td>\n",
       "      <td>...</td>\n",
       "    </tr>\n",
       "    <tr>\n",
       "      <th>31045</th>\n",
       "      <td>660901</td>\n",
       "      <td>8.0</td>\n",
       "    </tr>\n",
       "    <tr>\n",
       "      <th>31046</th>\n",
       "      <td>660920</td>\n",
       "      <td>19.0</td>\n",
       "    </tr>\n",
       "    <tr>\n",
       "      <th>31047</th>\n",
       "      <td>660954</td>\n",
       "      <td>34.0</td>\n",
       "    </tr>\n",
       "    <tr>\n",
       "      <th>31048</th>\n",
       "      <td>660969</td>\n",
       "      <td>15.0</td>\n",
       "    </tr>\n",
       "    <tr>\n",
       "      <th>31049</th>\n",
       "      <td>660983</td>\n",
       "      <td>14.0</td>\n",
       "    </tr>\n",
       "  </tbody>\n",
       "</table>\n",
       "<p>31050 rows × 2 columns</p>\n",
       "</div>"
      ],
      "text/plain": [
       "       zero_crossing  difference\n",
       "0                  0         NaN\n",
       "1                217       217.0\n",
       "2                405       188.0\n",
       "3                595       190.0\n",
       "4                785       190.0\n",
       "...              ...         ...\n",
       "31045         660901         8.0\n",
       "31046         660920        19.0\n",
       "31047         660954        34.0\n",
       "31048         660969        15.0\n",
       "31049         660983        14.0\n",
       "\n",
       "[31050 rows x 2 columns]"
      ]
     },
     "execution_count": 63,
     "metadata": {},
     "output_type": "execute_result"
    }
   ],
   "source": [
    "zero_cross_df"
   ]
  },
  {
   "cell_type": "code",
   "execution_count": 67,
   "id": "4bb69401-3e70-411d-a20e-6562d1459206",
   "metadata": {},
   "outputs": [
    {
     "data": {
      "text/plain": [
       "Text(0.5, 1.0, 'Zero-crossing intervals - Original')"
      ]
     },
     "execution_count": 67,
     "metadata": {},
     "output_type": "execute_result"
    },
    {
     "data": {
      "image/png": "[encoded data removed]",
      "text/plain": [
       "<Figure size 432x288 with 1 Axes>"
      ]
     },
     "metadata": {
      "needs_background": "light"
     },
     "output_type": "display_data"
    }
   ],
   "source": [
    "plt.plot(zero_cross_df[\"difference\"])\n",
    "plt.title(\"Zero-crossing intervals - Original\")"
   ]
  },
  {
   "cell_type": "code",
   "execution_count": 69,
   "id": "f64f8883-4e1f-4002-9da5-f4aedd7a0bc6",
   "metadata": {},
   "outputs": [],
   "source": [
    "def zero_cross_intervals(file):\n",
    "    y, sr = librosa.load(file)\n",
    "    file_name = file.replace(\"../raw_data/\", \"\")\n",
    "    z = librosa.zero_crossings(y)\n",
    "    z_stack = librosa.util.stack([y, z], axis=-1)\n",
    "    non_zero = np.nonzero(z)\n",
    "    non_zero = pd.Series(non_zero)\n",
    "    df = pd.DataFrame()\n",
    "    df[\"zero_crossing\"] = non_zero[0]\n",
    "    df[\"difference\"] = df[\"zero_crossing\"].diff()\n",
    "    plt.plot(df[\"difference\"])\n",
    "    plt.title(f\"Zero-crossing intervals - {file_name}\")\n",
    "    plt.show()\n",
    "    return df"
   ]
  },
  {
   "cell_type": "code",
   "execution_count": 70,
   "id": "a8ffcb6c-a088-4c75-b5fd-cb85a06968d8",
   "metadata": {
    "collapsed": true,
    "jupyter": {
     "outputs_hidden": true
    },
    "tags": []
   },
   "outputs": [
    {
     "data": {
      "image/png": "[encoded data removed]",
      "text/plain": [
       "<Figure size 432x288 with 1 Axes>"
      ]
     },
     "metadata": {
      "needs_background": "light"
     },
     "output_type": "display_data"
    },
    {
     "data": {
      "text/html": [
       "<div>\n",
       "<style scoped>\n",
       "    .dataframe tbody tr th:only-of-type {\n",
       "        vertical-align: middle;\n",
       "    }\n",
       "\n",
       "    .dataframe tbody tr th {\n",
       "        vertical-align: top;\n",
       "    }\n",
       "\n",
       "    .dataframe thead th {\n",
       "        text-align: right;\n",
       "    }\n",
       "</style>\n",
       "<table border=\"1\" class=\"dataframe\">\n",
       "  <thead>\n",
       "    <tr style=\"text-align: right;\">\n",
       "      <th></th>\n",
       "      <th>zero_crossing</th>\n",
       "      <th>difference</th>\n",
       "    </tr>\n",
       "  </thead>\n",
       "  <tbody>\n",
       "    <tr>\n",
       "      <th>0</th>\n",
       "      <td>0</td>\n",
       "      <td>NaN</td>\n",
       "    </tr>\n",
       "    <tr>\n",
       "      <th>1</th>\n",
       "      <td>12</td>\n",
       "      <td>12.0</td>\n",
       "    </tr>\n",
       "    <tr>\n",
       "      <th>2</th>\n",
       "      <td>13</td>\n",
       "      <td>1.0</td>\n",
       "    </tr>\n",
       "    <tr>\n",
       "      <th>3</th>\n",
       "      <td>15</td>\n",
       "      <td>2.0</td>\n",
       "    </tr>\n",
       "    <tr>\n",
       "      <th>4</th>\n",
       "      <td>16</td>\n",
       "      <td>1.0</td>\n",
       "    </tr>\n",
       "    <tr>\n",
       "      <th>...</th>\n",
       "      <td>...</td>\n",
       "      <td>...</td>\n",
       "    </tr>\n",
       "    <tr>\n",
       "      <th>127799</th>\n",
       "      <td>660970</td>\n",
       "      <td>1.0</td>\n",
       "    </tr>\n",
       "    <tr>\n",
       "      <th>127800</th>\n",
       "      <td>660973</td>\n",
       "      <td>3.0</td>\n",
       "    </tr>\n",
       "    <tr>\n",
       "      <th>127801</th>\n",
       "      <td>660977</td>\n",
       "      <td>4.0</td>\n",
       "    </tr>\n",
       "    <tr>\n",
       "      <th>127802</th>\n",
       "      <td>660979</td>\n",
       "      <td>2.0</td>\n",
       "    </tr>\n",
       "    <tr>\n",
       "      <th>127803</th>\n",
       "      <td>660982</td>\n",
       "      <td>3.0</td>\n",
       "    </tr>\n",
       "  </tbody>\n",
       "</table>\n",
       "<p>127804 rows × 2 columns</p>\n",
       "</div>"
      ],
      "text/plain": [
       "        zero_crossing  difference\n",
       "0                   0         NaN\n",
       "1                  12        12.0\n",
       "2                  13         1.0\n",
       "3                  15         2.0\n",
       "4                  16         1.0\n",
       "...               ...         ...\n",
       "127799         660970         1.0\n",
       "127800         660973         3.0\n",
       "127801         660977         4.0\n",
       "127802         660979         2.0\n",
       "127803         660982         3.0\n",
       "\n",
       "[127804 rows x 2 columns]"
      ]
     },
     "execution_count": 70,
     "metadata": {},
     "output_type": "execute_result"
    }
   ],
   "source": [
    "zero_cross_intervals(\"../raw_data/056247/drums.wav\")"
   ]
  },
  {
   "cell_type": "code",
   "execution_count": 71,
   "id": "d64fdc09-afaa-4453-b257-feed731e4c8a",
   "metadata": {
    "collapsed": true,
    "jupyter": {
     "outputs_hidden": true
    },
    "tags": []
   },
   "outputs": [
    {
     "data": {
      "image/png": "[encoded data removed]",
      "text/plain": [
       "<Figure size 432x288 with 1 Axes>"
      ]
     },
     "metadata": {
      "needs_background": "light"
     },
     "output_type": "display_data"
    },
    {
     "data": {
      "text/html": [
       "<div>\n",
       "<style scoped>\n",
       "    .dataframe tbody tr th:only-of-type {\n",
       "        vertical-align: middle;\n",
       "    }\n",
       "\n",
       "    .dataframe tbody tr th {\n",
       "        vertical-align: top;\n",
       "    }\n",
       "\n",
       "    .dataframe thead th {\n",
       "        text-align: right;\n",
       "    }\n",
       "</style>\n",
       "<table border=\"1\" class=\"dataframe\">\n",
       "  <thead>\n",
       "    <tr style=\"text-align: right;\">\n",
       "      <th></th>\n",
       "      <th>zero_crossing</th>\n",
       "      <th>difference</th>\n",
       "    </tr>\n",
       "  </thead>\n",
       "  <tbody>\n",
       "    <tr>\n",
       "      <th>0</th>\n",
       "      <td>0</td>\n",
       "      <td>NaN</td>\n",
       "    </tr>\n",
       "    <tr>\n",
       "      <th>1</th>\n",
       "      <td>217</td>\n",
       "      <td>217.0</td>\n",
       "    </tr>\n",
       "    <tr>\n",
       "      <th>2</th>\n",
       "      <td>405</td>\n",
       "      <td>188.0</td>\n",
       "    </tr>\n",
       "    <tr>\n",
       "      <th>3</th>\n",
       "      <td>594</td>\n",
       "      <td>189.0</td>\n",
       "    </tr>\n",
       "    <tr>\n",
       "      <th>4</th>\n",
       "      <td>785</td>\n",
       "      <td>191.0</td>\n",
       "    </tr>\n",
       "    <tr>\n",
       "      <th>...</th>\n",
       "      <td>...</td>\n",
       "      <td>...</td>\n",
       "    </tr>\n",
       "    <tr>\n",
       "      <th>60965</th>\n",
       "      <td>660967</td>\n",
       "      <td>4.0</td>\n",
       "    </tr>\n",
       "    <tr>\n",
       "      <th>60966</th>\n",
       "      <td>660970</td>\n",
       "      <td>3.0</td>\n",
       "    </tr>\n",
       "    <tr>\n",
       "      <th>60967</th>\n",
       "      <td>660974</td>\n",
       "      <td>4.0</td>\n",
       "    </tr>\n",
       "    <tr>\n",
       "      <th>60968</th>\n",
       "      <td>660977</td>\n",
       "      <td>3.0</td>\n",
       "    </tr>\n",
       "    <tr>\n",
       "      <th>60969</th>\n",
       "      <td>660981</td>\n",
       "      <td>4.0</td>\n",
       "    </tr>\n",
       "  </tbody>\n",
       "</table>\n",
       "<p>60970 rows × 2 columns</p>\n",
       "</div>"
      ],
      "text/plain": [
       "       zero_crossing  difference\n",
       "0                  0         NaN\n",
       "1                217       217.0\n",
       "2                405       188.0\n",
       "3                594       189.0\n",
       "4                785       191.0\n",
       "...              ...         ...\n",
       "60965         660967         4.0\n",
       "60966         660970         3.0\n",
       "60967         660974         4.0\n",
       "60968         660977         3.0\n",
       "60969         660981         4.0\n",
       "\n",
       "[60970 rows x 2 columns]"
      ]
     },
     "execution_count": 71,
     "metadata": {},
     "output_type": "execute_result"
    }
   ],
   "source": [
    "zero_cross_intervals(\"../raw_data/056247/bass.wav\")"
   ]
  },
  {
   "cell_type": "code",
   "execution_count": 72,
   "id": "a0f0cc07-7232-406e-a205-988d28ce7cae",
   "metadata": {
    "collapsed": true,
    "jupyter": {
     "outputs_hidden": true
    },
    "tags": []
   },
   "outputs": [
    {
     "data": {
      "image/png": "[encoded data removed]",
      "text/plain": [
       "<Figure size 432x288 with 1 Axes>"
      ]
     },
     "metadata": {
      "needs_background": "light"
     },
     "output_type": "display_data"
    },
    {
     "data": {
      "text/html": [
       "<div>\n",
       "<style scoped>\n",
       "    .dataframe tbody tr th:only-of-type {\n",
       "        vertical-align: middle;\n",
       "    }\n",
       "\n",
       "    .dataframe tbody tr th {\n",
       "        vertical-align: top;\n",
       "    }\n",
       "\n",
       "    .dataframe thead th {\n",
       "        text-align: right;\n",
       "    }\n",
       "</style>\n",
       "<table border=\"1\" class=\"dataframe\">\n",
       "  <thead>\n",
       "    <tr style=\"text-align: right;\">\n",
       "      <th></th>\n",
       "      <th>zero_crossing</th>\n",
       "      <th>difference</th>\n",
       "    </tr>\n",
       "  </thead>\n",
       "  <tbody>\n",
       "    <tr>\n",
       "      <th>0</th>\n",
       "      <td>0</td>\n",
       "      <td>NaN</td>\n",
       "    </tr>\n",
       "    <tr>\n",
       "      <th>1</th>\n",
       "      <td>10</td>\n",
       "      <td>10.0</td>\n",
       "    </tr>\n",
       "    <tr>\n",
       "      <th>2</th>\n",
       "      <td>17</td>\n",
       "      <td>7.0</td>\n",
       "    </tr>\n",
       "    <tr>\n",
       "      <th>3</th>\n",
       "      <td>18</td>\n",
       "      <td>1.0</td>\n",
       "    </tr>\n",
       "    <tr>\n",
       "      <th>4</th>\n",
       "      <td>19</td>\n",
       "      <td>1.0</td>\n",
       "    </tr>\n",
       "    <tr>\n",
       "      <th>...</th>\n",
       "      <td>...</td>\n",
       "      <td>...</td>\n",
       "    </tr>\n",
       "    <tr>\n",
       "      <th>137185</th>\n",
       "      <td>660882</td>\n",
       "      <td>17.0</td>\n",
       "    </tr>\n",
       "    <tr>\n",
       "      <th>137186</th>\n",
       "      <td>660918</td>\n",
       "      <td>36.0</td>\n",
       "    </tr>\n",
       "    <tr>\n",
       "      <th>137187</th>\n",
       "      <td>660956</td>\n",
       "      <td>38.0</td>\n",
       "    </tr>\n",
       "    <tr>\n",
       "      <th>137188</th>\n",
       "      <td>660975</td>\n",
       "      <td>19.0</td>\n",
       "    </tr>\n",
       "    <tr>\n",
       "      <th>137189</th>\n",
       "      <td>660983</td>\n",
       "      <td>8.0</td>\n",
       "    </tr>\n",
       "  </tbody>\n",
       "</table>\n",
       "<p>137190 rows × 2 columns</p>\n",
       "</div>"
      ],
      "text/plain": [
       "        zero_crossing  difference\n",
       "0                   0         NaN\n",
       "1                  10        10.0\n",
       "2                  17         7.0\n",
       "3                  18         1.0\n",
       "4                  19         1.0\n",
       "...               ...         ...\n",
       "137185         660882        17.0\n",
       "137186         660918        36.0\n",
       "137187         660956        38.0\n",
       "137188         660975        19.0\n",
       "137189         660983         8.0\n",
       "\n",
       "[137190 rows x 2 columns]"
      ]
     },
     "execution_count": 72,
     "metadata": {},
     "output_type": "execute_result"
    }
   ],
   "source": [
    "zero_cross_intervals(\"../raw_data/056247/other.wav\")"
   ]
  },
  {
   "cell_type": "code",
   "execution_count": 73,
   "id": "880a0214-0eb4-41c7-a0be-37f4a221abe9",
   "metadata": {
    "collapsed": true,
    "jupyter": {
     "outputs_hidden": true
    },
    "tags": []
   },
   "outputs": [
    {
     "data": {
      "image/png": "[encoded data removed]",
      "text/plain": [
       "<Figure size 432x288 with 1 Axes>"
      ]
     },
     "metadata": {
      "needs_background": "light"
     },
     "output_type": "display_data"
    },
    {
     "data": {
      "text/html": [
       "<div>\n",
       "<style scoped>\n",
       "    .dataframe tbody tr th:only-of-type {\n",
       "        vertical-align: middle;\n",
       "    }\n",
       "\n",
       "    .dataframe tbody tr th {\n",
       "        vertical-align: top;\n",
       "    }\n",
       "\n",
       "    .dataframe thead th {\n",
       "        text-align: right;\n",
       "    }\n",
       "</style>\n",
       "<table border=\"1\" class=\"dataframe\">\n",
       "  <thead>\n",
       "    <tr style=\"text-align: right;\">\n",
       "      <th></th>\n",
       "      <th>zero_crossing</th>\n",
       "      <th>difference</th>\n",
       "    </tr>\n",
       "  </thead>\n",
       "  <tbody>\n",
       "    <tr>\n",
       "      <th>0</th>\n",
       "      <td>0</td>\n",
       "      <td>NaN</td>\n",
       "    </tr>\n",
       "    <tr>\n",
       "      <th>1</th>\n",
       "      <td>1</td>\n",
       "      <td>1.0</td>\n",
       "    </tr>\n",
       "    <tr>\n",
       "      <th>2</th>\n",
       "      <td>2</td>\n",
       "      <td>1.0</td>\n",
       "    </tr>\n",
       "    <tr>\n",
       "      <th>3</th>\n",
       "      <td>3</td>\n",
       "      <td>1.0</td>\n",
       "    </tr>\n",
       "    <tr>\n",
       "      <th>4</th>\n",
       "      <td>4</td>\n",
       "      <td>1.0</td>\n",
       "    </tr>\n",
       "    <tr>\n",
       "      <th>...</th>\n",
       "      <td>...</td>\n",
       "      <td>...</td>\n",
       "    </tr>\n",
       "    <tr>\n",
       "      <th>86547</th>\n",
       "      <td>660902</td>\n",
       "      <td>10.0</td>\n",
       "    </tr>\n",
       "    <tr>\n",
       "      <th>86548</th>\n",
       "      <td>660921</td>\n",
       "      <td>19.0</td>\n",
       "    </tr>\n",
       "    <tr>\n",
       "      <th>86549</th>\n",
       "      <td>660954</td>\n",
       "      <td>33.0</td>\n",
       "    </tr>\n",
       "    <tr>\n",
       "      <th>86550</th>\n",
       "      <td>660968</td>\n",
       "      <td>14.0</td>\n",
       "    </tr>\n",
       "    <tr>\n",
       "      <th>86551</th>\n",
       "      <td>660982</td>\n",
       "      <td>14.0</td>\n",
       "    </tr>\n",
       "  </tbody>\n",
       "</table>\n",
       "<p>86552 rows × 2 columns</p>\n",
       "</div>"
      ],
      "text/plain": [
       "       zero_crossing  difference\n",
       "0                  0         NaN\n",
       "1                  1         1.0\n",
       "2                  2         1.0\n",
       "3                  3         1.0\n",
       "4                  4         1.0\n",
       "...              ...         ...\n",
       "86547         660902        10.0\n",
       "86548         660921        19.0\n",
       "86549         660954        33.0\n",
       "86550         660968        14.0\n",
       "86551         660982        14.0\n",
       "\n",
       "[86552 rows x 2 columns]"
      ]
     },
     "execution_count": 73,
     "metadata": {},
     "output_type": "execute_result"
    }
   ],
   "source": [
    "zero_cross_intervals(\"../raw_data/056247/vocals.wav\")"
   ]
  },
  {
   "cell_type": "code",
   "execution_count": 143,
   "id": "2630591e-f54e-45b8-8501-6bf03056d218",
   "metadata": {},
   "outputs": [],
   "source": [
    "stems = [\"bass\", \"drums\", \"other\", \"vocals\"]\n",
    "\n",
    "def mix_zero_cross_intervals(file, stems):\n",
    "    original = f'{file}.wav'\n",
    "    total_files = [original]\n",
    "    for stem in stems:\n",
    "        total_files.append(f'{file}/{stem}.wav')\n",
    "    fig, axes = plt.subplots(5,1, figsize=(17.7, 14.6))\n",
    "    for ax, audio in zip(axes.flatten(), total_files):\n",
    "        y, sr = librosa.load(f'../raw_data/{audio}')\n",
    "        z = librosa.zero_crossings(y)\n",
    "        z_stack = librosa.util.stack([y, z], axis=-1)\n",
    "        non_zero = pd.Series(np.nonzero(z))\n",
    "#         non_zero = pd.Series(non_zero)\n",
    "        df = pd.DataFrame()\n",
    "        df[f\"zero_crossing - {audio}\"] = non_zero[0]\n",
    "        print(audio, len(df))\n",
    "        df[f\"difference - {audio}\"] = df[f\"zero_crossing - {audio}\"].diff()\n",
    "        ax.plot(df[f\"difference - {audio}\"])\n",
    "        ax.set_title(f\"Zero-crossing intervals - {audio}\")\n",
    "        ax.set_xlim(0, 660984)\n",
    "    plt.show()"
   ]
  },
  {
   "cell_type": "code",
   "execution_count": 144,
   "id": "66f61722-8780-488a-82e4-70c79f015138",
   "metadata": {},
   "outputs": [
    {
     "name": "stdout",
     "output_type": "stream",
     "text": [
      "056247.wav 31050\n",
      "056247/bass.wav 60970\n",
      "056247/drums.wav 127804\n",
      "056247/other.wav 137190\n",
      "056247/vocals.wav 86552\n"
     ]
    },
    {
     "data": {
      "image/png": "[encoded data removed]",
      "text/plain": [
       "<Figure size 1274.4x1051.2 with 5 Axes>"
      ]
     },
     "metadata": {
      "needs_background": "light"
     },
     "output_type": "display_data"
    }
   ],
   "source": [
    "mix_zero_cross_intervals(\"056247\", stems)"
   ]
  },
  {
   "cell_type": "code",
   "execution_count": 161,
   "id": "c9c28569-e2dd-4491-99a8-0bd4ea2a0022",
   "metadata": {},
   "outputs": [
    {
     "data": {
      "text/plain": [
       "array([  -3,   -3,   -1, ..., 1452, -575, 1611], dtype=int16)"
      ]
     },
     "execution_count": 161,
     "metadata": {},
     "output_type": "execute_result"
    }
   ],
   "source": [
    "path = \"../raw_data/056247/vocals.wav\" \n",
    "raw = wave.open(path)\n",
    "\n",
    "# reads all the frames \n",
    "# -1 indicates all or max frames\n",
    "signal = raw.readframes(-1)\n",
    "vocal_signal = np.frombuffer(signal, dtype =\"int16\")\n",
    "\n",
    "# gets the frame rate\n",
    "f_rate = raw.getframerate()\n",
    "\n",
    "time = np.linspace(\n",
    "        0, # start\n",
    "        len(signal) / f_rate,\n",
    "        num = len(signal)\n",
    "    )\n",
    "vocal_signal"
   ]
  },
  {
   "cell_type": "code",
   "execution_count": 162,
   "id": "278729ce-dbc9-4865-825c-c5966d928854",
   "metadata": {},
   "outputs": [
    {
     "data": {
      "text/plain": [
       "array([-544, -363, -731, ...,  852, -183,  549], dtype=int16)"
      ]
     },
     "execution_count": 162,
     "metadata": {},
     "output_type": "execute_result"
    }
   ],
   "source": [
    "path = \"../raw_data/056247/drums.wav\" \n",
    "raw = wave.open(path)\n",
    "\n",
    "# reads all the frames \n",
    "# -1 indicates all or max frames\n",
    "signal = raw.readframes(-1)\n",
    "drums_signal = np.frombuffer(signal, dtype =\"int16\")\n",
    "\n",
    "# gets the frame rate\n",
    "f_rate = raw.getframerate()\n",
    "\n",
    "time = np.linspace(\n",
    "        0, # start\n",
    "        len(signal) / f_rate,\n",
    "        num = len(signal)\n",
    "    )\n",
    "drums_signal"
   ]
  },
  {
   "cell_type": "code",
   "execution_count": 168,
   "id": "17816764-495b-4c5f-8ff4-be5852d79cc1",
   "metadata": {},
   "outputs": [],
   "source": [
    "df = pd.DataFrame()"
   ]
  },
  {
   "cell_type": "code",
   "execution_count": 169,
   "id": "13705133-619e-482f-8610-f07dec4459ed",
   "metadata": {},
   "outputs": [],
   "source": [
    "df[\"vocals\"] = vocal_signal"
   ]
  },
  {
   "cell_type": "code",
   "execution_count": 170,
   "id": "581342d9-c12d-4e4b-880a-0ec90cb0e4da",
   "metadata": {},
   "outputs": [],
   "source": [
    "df[\"drums\"] = drums_signal"
   ]
  },
  {
   "cell_type": "code",
   "execution_count": 171,
   "id": "6c88fefb-3185-4cce-8142-a376088796f2",
   "metadata": {},
   "outputs": [],
   "source": [
    "df[\"vocal_drums\"] = df[\"vocals\"]+df[\"drums\"]"
   ]
  },
  {
   "cell_type": "code",
   "execution_count": 175,
   "id": "be1b0f81-cc13-47d5-9fa8-39dd38f46258",
   "metadata": {},
   "outputs": [
    {
     "data": {
      "text/plain": [
       "[<matplotlib.lines.Line2D at 0x14a4456a0>]"
      ]
     },
     "execution_count": 175,
     "metadata": {},
     "output_type": "execute_result"
    },
    {
     "data": {
      "image/png": "[encoded data removed]",
      "text/plain": [
       "<Figure size 432x288 with 1 Axes>"
      ]
     },
     "metadata": {
      "needs_background": "light"
     },
     "output_type": "display_data"
    }
   ],
   "source": [
    "plt.plot(df[\"vocal_drums\"])"
   ]
  },
  {
   "cell_type": "code",
   "execution_count": null,
   "id": "e14c5487-2382-4b27-94d2-14d0536a648f",
   "metadata": {},
   "outputs": [],
   "source": []
  }
 ],
 "metadata": {
  "kernelspec": {
   "display_name": "Python 3",
   "language": "python",
   "name": "python3"
  },
  "language_info": {
   "codemirror_mode": {
    "name": "ipython",
    "version": 3
   },
   "file_extension": ".py",
   "mimetype": "text/x-python",
   "name": "python",
   "nbconvert_exporter": "python",
   "pygments_lexer": "ipython3",
   "version": "3.8.6"
  }
 },
 "nbformat": 4,
 "nbformat_minor": 5
}
