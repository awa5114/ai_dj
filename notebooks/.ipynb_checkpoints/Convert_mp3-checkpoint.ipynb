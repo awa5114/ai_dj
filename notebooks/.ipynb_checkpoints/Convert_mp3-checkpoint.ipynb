{
 "cells": [
  {
   "cell_type": "markdown",
   "id": "5c7c3580-ee71-45be-81ff-17d3cbf6b079",
   "metadata": {},
   "source": [
    "# Convert mp3 to wav"
   ]
  },
  {
   "cell_type": "code",
   "execution_count": null,
   "id": "deca512c-d6f9-417d-a47f-e444e3fdeec9",
   "metadata": {},
   "outputs": [],
   "source": []
  }
 ],
 "metadata": {
  "kernelspec": {
   "display_name": "Python 3",
   "language": "python",
   "name": "python3"
  },
  "language_info": {
   "codemirror_mode": {
    "name": "ipython",
    "version": 3
   },
   "file_extension": ".py",
   "mimetype": "text/x-python",
   "name": "python",
   "nbconvert_exporter": "python",
   "pygments_lexer": "ipython3",
   "version": "3.8.6"
  }
 },
 "nbformat": 4,
 "nbformat_minor": 5
}
